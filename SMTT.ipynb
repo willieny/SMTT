{
  "nbformat": 4,
  "nbformat_minor": 0,
  "metadata": {
    "colab": {
      "name": "SMTT.ipynb",
      "provenance": [],
      "collapsed_sections": [],
      "authorship_tag": "ABX9TyPF1Pj2+KAbUde7kiMwgvNp",
      "include_colab_link": true
    },
    "kernelspec": {
      "name": "python3",
      "display_name": "Python 3"
    }
  },
  "cells": [
    {
      "cell_type": "markdown",
      "metadata": {
        "id": "view-in-github",
        "colab_type": "text"
      },
      "source": [
        "<a href=\"https://colab.research.google.com/github/willieny/SMTT/blob/main/SMTT.ipynb\" target=\"_parent\"><img src=\"https://colab.research.google.com/assets/colab-badge.svg\" alt=\"Open In Colab\"/></a>"
      ]
    },
    {
      "cell_type": "markdown",
      "metadata": {
        "id": "BedXU57Sro3X"
      },
      "source": [
        "Importando as libs"
      ]
    },
    {
      "cell_type": "code",
      "metadata": {
        "id": "d9mIVdHhoIu7"
      },
      "source": [
        "import nltk\n",
        "import pandas as pd\n",
        "import numpy as np\n",
        "import math\n",
        "\n",
        "# Visualisation\n",
        "import matplotlib as mpl\n",
        "import matplotlib.pyplot as plt\n",
        "import matplotlib.pylab as pylab\n",
        "import seaborn as sns"
      ],
      "execution_count": null,
      "outputs": []
    },
    {
      "cell_type": "markdown",
      "metadata": {
        "id": "T6UFQertrsrN"
      },
      "source": [
        "Lendo o dataset"
      ]
    },
    {
      "cell_type": "code",
      "metadata": {
        "colab": {
          "base_uri": "https://localhost:8080/",
          "height": 496
        },
        "id": "jplPqCHnriIY",
        "outputId": "34b73cbd-3b77-46fa-e8d8-a5aa7d829832"
      },
      "source": [
        "df = pd.read_csv('viagens.csv')\n",
        "df.head()"
      ],
      "execution_count": null,
      "outputs": [
        {
          "output_type": "execute_result",
          "data": {
            "text/html": [
              "<div>\n",
              "<style scoped>\n",
              "    .dataframe tbody tr th:only-of-type {\n",
              "        vertical-align: middle;\n",
              "    }\n",
              "\n",
              "    .dataframe tbody tr th {\n",
              "        vertical-align: top;\n",
              "    }\n",
              "\n",
              "    .dataframe thead th {\n",
              "        text-align: right;\n",
              "    }\n",
              "</style>\n",
              "<table border=\"1\" class=\"dataframe\">\n",
              "  <thead>\n",
              "    <tr style=\"text-align: right;\">\n",
              "      <th></th>\n",
              "      <th>Unnamed: 0</th>\n",
              "      <th>numero_viagem_da_linha_no_dia</th>\n",
              "      <th>ordem_veiculo_na_linha_no_dia</th>\n",
              "      <th>duracao_total_realizada</th>\n",
              "      <th>nome_linha</th>\n",
              "      <th>atendimento</th>\n",
              "      <th>empresa</th>\n",
              "      <th>numero_ordem_veiculo</th>\n",
              "      <th>numero_linha</th>\n",
              "      <th>hora_prevista</th>\n",
              "      <th>hora_realizada</th>\n",
              "      <th>duracao_prevista</th>\n",
              "      <th>duracao_realizada</th>\n",
              "      <th>sentido_viagem</th>\n",
              "    </tr>\n",
              "  </thead>\n",
              "  <tbody>\n",
              "    <tr>\n",
              "      <th>0</th>\n",
              "      <td>0</td>\n",
              "      <td>1</td>\n",
              "      <td>1</td>\n",
              "      <td>80.0</td>\n",
              "      <td>Village Campestre II X Centro / Farol</td>\n",
              "      <td>Village Campestre II X Centro / Farol</td>\n",
              "      <td>Real Transportes Urbanos Ltda.</td>\n",
              "      <td>4636</td>\n",
              "      <td>46</td>\n",
              "      <td>2020-10-04 05:30:00</td>\n",
              "      <td>2020-10-04 05:26:00</td>\n",
              "      <td>45</td>\n",
              "      <td>40.0</td>\n",
              "      <td>ida</td>\n",
              "    </tr>\n",
              "    <tr>\n",
              "      <th>1</th>\n",
              "      <td>1</td>\n",
              "      <td>2</td>\n",
              "      <td>1</td>\n",
              "      <td>80.0</td>\n",
              "      <td>Village Campestre II X Centro / Farol</td>\n",
              "      <td>Village Campestre II X Centro / Farol</td>\n",
              "      <td>Real Transportes Urbanos Ltda.</td>\n",
              "      <td>4636</td>\n",
              "      <td>46</td>\n",
              "      <td>2020-10-04 06:15:00</td>\n",
              "      <td>2020-10-04 06:06:00</td>\n",
              "      <td>45</td>\n",
              "      <td>40.0</td>\n",
              "      <td>volta</td>\n",
              "    </tr>\n",
              "    <tr>\n",
              "      <th>2</th>\n",
              "      <td>2</td>\n",
              "      <td>3</td>\n",
              "      <td>1</td>\n",
              "      <td>88.0</td>\n",
              "      <td>Village Campestre II X Centro / Farol</td>\n",
              "      <td>Village Campestre II X Centro / Farol</td>\n",
              "      <td>Real Transportes Urbanos Ltda.</td>\n",
              "      <td>4636</td>\n",
              "      <td>46</td>\n",
              "      <td>2020-10-04 07:00:00</td>\n",
              "      <td>2020-10-04 06:58:00</td>\n",
              "      <td>45</td>\n",
              "      <td>43.0</td>\n",
              "      <td>ida</td>\n",
              "    </tr>\n",
              "    <tr>\n",
              "      <th>3</th>\n",
              "      <td>3</td>\n",
              "      <td>4</td>\n",
              "      <td>1</td>\n",
              "      <td>88.0</td>\n",
              "      <td>Village Campestre II X Centro / Farol</td>\n",
              "      <td>Village Campestre II X Centro / Farol</td>\n",
              "      <td>Real Transportes Urbanos Ltda.</td>\n",
              "      <td>4636</td>\n",
              "      <td>46</td>\n",
              "      <td>2020-10-04 07:45:00</td>\n",
              "      <td>2020-10-04 07:42:00</td>\n",
              "      <td>45</td>\n",
              "      <td>44.0</td>\n",
              "      <td>volta</td>\n",
              "    </tr>\n",
              "    <tr>\n",
              "      <th>4</th>\n",
              "      <td>4</td>\n",
              "      <td>5</td>\n",
              "      <td>1</td>\n",
              "      <td>87.0</td>\n",
              "      <td>Village Campestre II X Centro / Farol</td>\n",
              "      <td>Village Campestre II X Centro / Farol</td>\n",
              "      <td>Real Transportes Urbanos Ltda.</td>\n",
              "      <td>4636</td>\n",
              "      <td>46</td>\n",
              "      <td>2020-10-04 08:30:00</td>\n",
              "      <td>2020-10-04 08:31:00</td>\n",
              "      <td>45</td>\n",
              "      <td>44.0</td>\n",
              "      <td>ida</td>\n",
              "    </tr>\n",
              "  </tbody>\n",
              "</table>\n",
              "</div>"
            ],
            "text/plain": [
              "   Unnamed: 0  numero_viagem_da_linha_no_dia  ...  duracao_realizada  sentido_viagem\n",
              "0           0                              1  ...               40.0             ida\n",
              "1           1                              2  ...               40.0           volta\n",
              "2           2                              3  ...               43.0             ida\n",
              "3           3                              4  ...               44.0           volta\n",
              "4           4                              5  ...               44.0             ida\n",
              "\n",
              "[5 rows x 14 columns]"
            ]
          },
          "metadata": {
            "tags": []
          },
          "execution_count": 2
        }
      ]
    },
    {
      "cell_type": "code",
      "metadata": {
        "colab": {
          "base_uri": "https://localhost:8080/",
          "height": 496
        },
        "id": "Gn9Fys_ml98p",
        "outputId": "f3c2330c-d669-4225-d54d-515b0559f3ff"
      },
      "source": [
        "df.tail()"
      ],
      "execution_count": null,
      "outputs": [
        {
          "output_type": "execute_result",
          "data": {
            "text/html": [
              "<div>\n",
              "<style scoped>\n",
              "    .dataframe tbody tr th:only-of-type {\n",
              "        vertical-align: middle;\n",
              "    }\n",
              "\n",
              "    .dataframe tbody tr th {\n",
              "        vertical-align: top;\n",
              "    }\n",
              "\n",
              "    .dataframe thead th {\n",
              "        text-align: right;\n",
              "    }\n",
              "</style>\n",
              "<table border=\"1\" class=\"dataframe\">\n",
              "  <thead>\n",
              "    <tr style=\"text-align: right;\">\n",
              "      <th></th>\n",
              "      <th>Unnamed: 0</th>\n",
              "      <th>numero_viagem_da_linha_no_dia</th>\n",
              "      <th>ordem_veiculo_na_linha_no_dia</th>\n",
              "      <th>duracao_total_realizada</th>\n",
              "      <th>nome_linha</th>\n",
              "      <th>atendimento</th>\n",
              "      <th>empresa</th>\n",
              "      <th>numero_ordem_veiculo</th>\n",
              "      <th>numero_linha</th>\n",
              "      <th>hora_prevista</th>\n",
              "      <th>hora_realizada</th>\n",
              "      <th>duracao_prevista</th>\n",
              "      <th>duracao_realizada</th>\n",
              "      <th>sentido_viagem</th>\n",
              "    </tr>\n",
              "  </thead>\n",
              "  <tbody>\n",
              "    <tr>\n",
              "      <th>21697</th>\n",
              "      <td>21697</td>\n",
              "      <td>21886</td>\n",
              "      <td>3</td>\n",
              "      <td>65.0</td>\n",
              "      <td>Cruz das Almas / Trapiche</td>\n",
              "      <td>107-EMBARQUE SOMENTE COM CARTÃO</td>\n",
              "      <td>Auto Viação Veleiro LTDA</td>\n",
              "      <td>3139</td>\n",
              "      <td>107</td>\n",
              "      <td>2020-10-06 21:11:00</td>\n",
              "      <td>2020-10-06 21:04:00</td>\n",
              "      <td>54</td>\n",
              "      <td>28.0</td>\n",
              "      <td>volta</td>\n",
              "    </tr>\n",
              "    <tr>\n",
              "      <th>21698</th>\n",
              "      <td>21698</td>\n",
              "      <td>21887</td>\n",
              "      <td>1</td>\n",
              "      <td>36.0</td>\n",
              "      <td>Cruz das Almas / Trapiche</td>\n",
              "      <td>TRAPICHE/CRUZ DAS ALMAS</td>\n",
              "      <td>Auto Viação Veleiro LTDA</td>\n",
              "      <td>3150</td>\n",
              "      <td>107</td>\n",
              "      <td>2020-10-06 21:05:00</td>\n",
              "      <td>2020-10-06 21:03:00</td>\n",
              "      <td>45</td>\n",
              "      <td>36.0</td>\n",
              "      <td>ida</td>\n",
              "    </tr>\n",
              "    <tr>\n",
              "      <th>21699</th>\n",
              "      <td>21699</td>\n",
              "      <td>21888</td>\n",
              "      <td>1</td>\n",
              "      <td>36.0</td>\n",
              "      <td>Cruz das Almas / Trapiche</td>\n",
              "      <td>TRAPICHE/CRUZ DAS ALMAS</td>\n",
              "      <td>Auto Viação Veleiro LTDA</td>\n",
              "      <td>3150</td>\n",
              "      <td>107</td>\n",
              "      <td>2020-10-06 21:51:00</td>\n",
              "      <td>2020-10-06 21:42:00</td>\n",
              "      <td>44</td>\n",
              "      <td>NaN</td>\n",
              "      <td>volta</td>\n",
              "    </tr>\n",
              "    <tr>\n",
              "      <th>21700</th>\n",
              "      <td>21700</td>\n",
              "      <td>21889</td>\n",
              "      <td>2</td>\n",
              "      <td>NaN</td>\n",
              "      <td>Cruz das Almas / Trapiche</td>\n",
              "      <td>TRAPICHE/CRUZ DAS ALMAS</td>\n",
              "      <td>Auto Viação Veleiro LTDA</td>\n",
              "      <td>3805</td>\n",
              "      <td>107</td>\n",
              "      <td>2020-10-06 21:55:00</td>\n",
              "      <td>NaN</td>\n",
              "      <td>45</td>\n",
              "      <td>NaN</td>\n",
              "      <td>ida</td>\n",
              "    </tr>\n",
              "    <tr>\n",
              "      <th>21701</th>\n",
              "      <td>21701</td>\n",
              "      <td>21890</td>\n",
              "      <td>2</td>\n",
              "      <td>NaN</td>\n",
              "      <td>Cruz das Almas / Trapiche</td>\n",
              "      <td>TRAPICHE/CRUZ DAS ALMAS</td>\n",
              "      <td>Auto Viação Veleiro LTDA</td>\n",
              "      <td>3805</td>\n",
              "      <td>107</td>\n",
              "      <td>2020-10-06 22:41:00</td>\n",
              "      <td>NaN</td>\n",
              "      <td>44</td>\n",
              "      <td>NaN</td>\n",
              "      <td>volta</td>\n",
              "    </tr>\n",
              "  </tbody>\n",
              "</table>\n",
              "</div>"
            ],
            "text/plain": [
              "       Unnamed: 0  ...  sentido_viagem\n",
              "21697       21697  ...           volta\n",
              "21698       21698  ...             ida\n",
              "21699       21699  ...           volta\n",
              "21700       21700  ...             ida\n",
              "21701       21701  ...           volta\n",
              "\n",
              "[5 rows x 14 columns]"
            ]
          },
          "metadata": {
            "tags": []
          },
          "execution_count": 3
        }
      ]
    },
    {
      "cell_type": "code",
      "metadata": {
        "colab": {
          "base_uri": "https://localhost:8080/"
        },
        "id": "vQ02-kTrm-8r",
        "outputId": "691fd017-8a97-41cf-c7b2-fab88eacac27"
      },
      "source": [
        "df.info()"
      ],
      "execution_count": null,
      "outputs": [
        {
          "output_type": "stream",
          "text": [
            "<class 'pandas.core.frame.DataFrame'>\n",
            "RangeIndex: 21702 entries, 0 to 21701\n",
            "Data columns (total 14 columns):\n",
            " #   Column                         Non-Null Count  Dtype  \n",
            "---  ------                         --------------  -----  \n",
            " 0   Unnamed: 0                     21702 non-null  int64  \n",
            " 1   numero_viagem_da_linha_no_dia  21702 non-null  int64  \n",
            " 2   ordem_veiculo_na_linha_no_dia  21702 non-null  int64  \n",
            " 3   duracao_total_realizada        19072 non-null  float64\n",
            " 4   nome_linha                     21702 non-null  object \n",
            " 5   atendimento                    21702 non-null  object \n",
            " 6   empresa                        21702 non-null  object \n",
            " 7   numero_ordem_veiculo           21702 non-null  int64  \n",
            " 8   numero_linha                   21702 non-null  int64  \n",
            " 9   hora_prevista                  21702 non-null  object \n",
            " 10  hora_realizada                 19528 non-null  object \n",
            " 11  duracao_prevista               21702 non-null  int64  \n",
            " 12  duracao_realizada              18169 non-null  float64\n",
            " 13  sentido_viagem                 21702 non-null  object \n",
            "dtypes: float64(2), int64(6), object(6)\n",
            "memory usage: 2.3+ MB\n"
          ],
          "name": "stdout"
        }
      ]
    },
    {
      "cell_type": "code",
      "metadata": {
        "colab": {
          "base_uri": "https://localhost:8080/",
          "height": 297
        },
        "id": "IAyND8p4oS-i",
        "outputId": "d78670a5-e180-4e9c-ba57-dd8bd78b23fc"
      },
      "source": [
        "df.describe()"
      ],
      "execution_count": null,
      "outputs": [
        {
          "output_type": "execute_result",
          "data": {
            "text/html": [
              "<div>\n",
              "<style scoped>\n",
              "    .dataframe tbody tr th:only-of-type {\n",
              "        vertical-align: middle;\n",
              "    }\n",
              "\n",
              "    .dataframe tbody tr th {\n",
              "        vertical-align: top;\n",
              "    }\n",
              "\n",
              "    .dataframe thead th {\n",
              "        text-align: right;\n",
              "    }\n",
              "</style>\n",
              "<table border=\"1\" class=\"dataframe\">\n",
              "  <thead>\n",
              "    <tr style=\"text-align: right;\">\n",
              "      <th></th>\n",
              "      <th>Unnamed: 0</th>\n",
              "      <th>numero_viagem_da_linha_no_dia</th>\n",
              "      <th>ordem_veiculo_na_linha_no_dia</th>\n",
              "      <th>duracao_total_realizada</th>\n",
              "      <th>numero_ordem_veiculo</th>\n",
              "      <th>numero_linha</th>\n",
              "      <th>duracao_prevista</th>\n",
              "      <th>duracao_realizada</th>\n",
              "    </tr>\n",
              "  </thead>\n",
              "  <tbody>\n",
              "    <tr>\n",
              "      <th>count</th>\n",
              "      <td>21702.000000</td>\n",
              "      <td>21702.000000</td>\n",
              "      <td>21702.000000</td>\n",
              "      <td>19072.000000</td>\n",
              "      <td>21702.000000</td>\n",
              "      <td>21702.000000</td>\n",
              "      <td>21702.000000</td>\n",
              "      <td>18169.000000</td>\n",
              "    </tr>\n",
              "    <tr>\n",
              "      <th>mean</th>\n",
              "      <td>10850.500000</td>\n",
              "      <td>10928.901806</td>\n",
              "      <td>2.367938</td>\n",
              "      <td>91.302905</td>\n",
              "      <td>2826.321768</td>\n",
              "      <td>747.196986</td>\n",
              "      <td>49.936504</td>\n",
              "      <td>47.959602</td>\n",
              "    </tr>\n",
              "    <tr>\n",
              "      <th>std</th>\n",
              "      <td>6264.972107</td>\n",
              "      <td>6327.728890</td>\n",
              "      <td>1.819881</td>\n",
              "      <td>47.171439</td>\n",
              "      <td>1387.632289</td>\n",
              "      <td>1150.852796</td>\n",
              "      <td>22.779752</td>\n",
              "      <td>24.677096</td>\n",
              "    </tr>\n",
              "    <tr>\n",
              "      <th>min</th>\n",
              "      <td>0.000000</td>\n",
              "      <td>1.000000</td>\n",
              "      <td>1.000000</td>\n",
              "      <td>-37.000000</td>\n",
              "      <td>1001.000000</td>\n",
              "      <td>17.000000</td>\n",
              "      <td>1.000000</td>\n",
              "      <td>-37.000000</td>\n",
              "    </tr>\n",
              "    <tr>\n",
              "      <th>25%</th>\n",
              "      <td>5425.250000</td>\n",
              "      <td>5426.250000</td>\n",
              "      <td>1.000000</td>\n",
              "      <td>53.000000</td>\n",
              "      <td>1274.000000</td>\n",
              "      <td>107.000000</td>\n",
              "      <td>30.000000</td>\n",
              "      <td>30.000000</td>\n",
              "    </tr>\n",
              "    <tr>\n",
              "      <th>50%</th>\n",
              "      <td>10850.500000</td>\n",
              "      <td>10928.500000</td>\n",
              "      <td>2.000000</td>\n",
              "      <td>94.000000</td>\n",
              "      <td>2614.000000</td>\n",
              "      <td>604.000000</td>\n",
              "      <td>52.000000</td>\n",
              "      <td>48.000000</td>\n",
              "    </tr>\n",
              "    <tr>\n",
              "      <th>75%</th>\n",
              "      <td>16275.750000</td>\n",
              "      <td>16422.750000</td>\n",
              "      <td>3.000000</td>\n",
              "      <td>124.000000</td>\n",
              "      <td>4039.000000</td>\n",
              "      <td>804.000000</td>\n",
              "      <td>67.000000</td>\n",
              "      <td>64.000000</td>\n",
              "    </tr>\n",
              "    <tr>\n",
              "      <th>max</th>\n",
              "      <td>21701.000000</td>\n",
              "      <td>21890.000000</td>\n",
              "      <td>12.000000</td>\n",
              "      <td>265.000000</td>\n",
              "      <td>8620.000000</td>\n",
              "      <td>7151.000000</td>\n",
              "      <td>170.000000</td>\n",
              "      <td>192.000000</td>\n",
              "    </tr>\n",
              "  </tbody>\n",
              "</table>\n",
              "</div>"
            ],
            "text/plain": [
              "         Unnamed: 0  ...  duracao_realizada\n",
              "count  21702.000000  ...       18169.000000\n",
              "mean   10850.500000  ...          47.959602\n",
              "std     6264.972107  ...          24.677096\n",
              "min        0.000000  ...         -37.000000\n",
              "25%     5425.250000  ...          30.000000\n",
              "50%    10850.500000  ...          48.000000\n",
              "75%    16275.750000  ...          64.000000\n",
              "max    21701.000000  ...         192.000000\n",
              "\n",
              "[8 rows x 8 columns]"
            ]
          },
          "metadata": {
            "tags": []
          },
          "execution_count": 5
        }
      ]
    },
    {
      "cell_type": "markdown",
      "metadata": {
        "id": "ScOH2Losv1Fk"
      },
      "source": [
        "Tratando os dados"
      ]
    },
    {
      "cell_type": "code",
      "metadata": {
        "id": "5iLGJIWMr1NW"
      },
      "source": [
        "# Remove a primeira coluna, que representa o índice\n",
        "df = df.drop(['Unnamed: 0'], axis=1) "
      ],
      "execution_count": null,
      "outputs": []
    },
    {
      "cell_type": "code",
      "metadata": {
        "colab": {
          "base_uri": "https://localhost:8080/"
        },
        "id": "MHV5DITewFHP",
        "outputId": "2972cfb8-0153-468e-f1b7-3b5e388517af"
      },
      "source": [
        "# Identificando os dados faltantes\n",
        "df.isnull().sum()"
      ],
      "execution_count": null,
      "outputs": [
        {
          "output_type": "execute_result",
          "data": {
            "text/plain": [
              "numero_viagem_da_linha_no_dia       0\n",
              "ordem_veiculo_na_linha_no_dia       0\n",
              "duracao_total_realizada          2630\n",
              "nome_linha                          0\n",
              "atendimento                         0\n",
              "empresa                             0\n",
              "numero_ordem_veiculo                0\n",
              "numero_linha                        0\n",
              "hora_prevista                       0\n",
              "hora_realizada                   2174\n",
              "duracao_prevista                    0\n",
              "duracao_realizada                3533\n",
              "sentido_viagem                      0\n",
              "dtype: int64"
            ]
          },
          "metadata": {
            "tags": []
          },
          "execution_count": 7
        }
      ]
    },
    {
      "cell_type": "code",
      "metadata": {
        "colab": {
          "base_uri": "https://localhost:8080/"
        },
        "id": "buH3Agjl0bDC",
        "outputId": "59c744ab-cf57-4d23-8480-fc64e4180f84"
      },
      "source": [
        "df.shape"
      ],
      "execution_count": null,
      "outputs": [
        {
          "output_type": "execute_result",
          "data": {
            "text/plain": [
              "(21702, 13)"
            ]
          },
          "metadata": {
            "tags": []
          },
          "execution_count": 8
        }
      ]
    },
    {
      "cell_type": "code",
      "metadata": {
        "id": "IDaP-ULZ0omN"
      },
      "source": [
        "# Obtendo a média para substituir nos dados faltantes\n",
        "dtr_media = df['duracao_total_realizada'].mean()\n",
        "dr_media = df['duracao_realizada'].mean()\n",
        "\n",
        "# Arredondando a média\n",
        "dtr_media = math.floor(dtr_media)\n",
        "dr_media = math.floor(dr_media)\n",
        "\n",
        "# Dando update nos dados faltantes em 'duracao_total_realizada' e 'duracao_realizada'\n",
        "df.update(df['duracao_total_realizada'].fillna(dtr_media))\n",
        "df.update(df['duracao_realizada'].fillna(dr_media))"
      ],
      "execution_count": null,
      "outputs": []
    },
    {
      "cell_type": "code",
      "metadata": {
        "id": "LbHdyO4906Gs"
      },
      "source": [
        "# As viagens não realizadas não possuem valor em 'hora_realizada'. Dessa forma, uma vez que não será analisado o cumprimento de viagem, então serão removidas as linhas cujo valor em 'hora_realizada' esteja faltando.\n",
        "df = df.dropna(axis=0)"
      ],
      "execution_count": null,
      "outputs": []
    },
    {
      "cell_type": "code",
      "metadata": {
        "id": "euPj515H1y77",
        "colab": {
          "base_uri": "https://localhost:8080/"
        },
        "outputId": "a110d1e5-792c-4f92-a4c1-5069eb9e9eba"
      },
      "source": [
        "# Após update em 'duracao_total_realizada' e 'duracao_realizada'\n",
        "df.isnull().sum()"
      ],
      "execution_count": null,
      "outputs": [
        {
          "output_type": "execute_result",
          "data": {
            "text/plain": [
              "numero_viagem_da_linha_no_dia    0\n",
              "ordem_veiculo_na_linha_no_dia    0\n",
              "duracao_total_realizada          0\n",
              "nome_linha                       0\n",
              "atendimento                      0\n",
              "empresa                          0\n",
              "numero_ordem_veiculo             0\n",
              "numero_linha                     0\n",
              "hora_prevista                    0\n",
              "hora_realizada                   0\n",
              "duracao_prevista                 0\n",
              "duracao_realizada                0\n",
              "sentido_viagem                   0\n",
              "dtype: int64"
            ]
          },
          "metadata": {
            "tags": []
          },
          "execution_count": 11
        }
      ]
    },
    {
      "cell_type": "code",
      "metadata": {
        "colab": {
          "base_uri": "https://localhost:8080/"
        },
        "id": "-rJu0mJ5A3zT",
        "outputId": "d9e7dbf0-778a-449d-856c-3793fe631f18"
      },
      "source": [
        "df.shape"
      ],
      "execution_count": null,
      "outputs": [
        {
          "output_type": "execute_result",
          "data": {
            "text/plain": [
              "(19528, 13)"
            ]
          },
          "metadata": {
            "tags": []
          },
          "execution_count": 12
        }
      ]
    },
    {
      "cell_type": "code",
      "metadata": {
        "colab": {
          "base_uri": "https://localhost:8080/",
          "height": 949
        },
        "id": "4ieU7Vpa8RT0",
        "outputId": "e5437b3c-b00e-4847-868a-66276beeeda7"
      },
      "source": [
        "# Renomear o índice do dataset porque ao remover os dados faltantes em 'hora_realizada' o índice ficou com alguns buracos.\n",
        "index = []\n",
        "for j in range(len(df)):\n",
        "  index.append(j)\n",
        "\n",
        "df = df.set_index([pd.Index(index)])\n",
        "df"
      ],
      "execution_count": null,
      "outputs": [
        {
          "output_type": "execute_result",
          "data": {
            "text/html": [
              "<div>\n",
              "<style scoped>\n",
              "    .dataframe tbody tr th:only-of-type {\n",
              "        vertical-align: middle;\n",
              "    }\n",
              "\n",
              "    .dataframe tbody tr th {\n",
              "        vertical-align: top;\n",
              "    }\n",
              "\n",
              "    .dataframe thead th {\n",
              "        text-align: right;\n",
              "    }\n",
              "</style>\n",
              "<table border=\"1\" class=\"dataframe\">\n",
              "  <thead>\n",
              "    <tr style=\"text-align: right;\">\n",
              "      <th></th>\n",
              "      <th>numero_viagem_da_linha_no_dia</th>\n",
              "      <th>ordem_veiculo_na_linha_no_dia</th>\n",
              "      <th>duracao_total_realizada</th>\n",
              "      <th>nome_linha</th>\n",
              "      <th>atendimento</th>\n",
              "      <th>empresa</th>\n",
              "      <th>numero_ordem_veiculo</th>\n",
              "      <th>numero_linha</th>\n",
              "      <th>hora_prevista</th>\n",
              "      <th>hora_realizada</th>\n",
              "      <th>duracao_prevista</th>\n",
              "      <th>duracao_realizada</th>\n",
              "      <th>sentido_viagem</th>\n",
              "    </tr>\n",
              "  </thead>\n",
              "  <tbody>\n",
              "    <tr>\n",
              "      <th>0</th>\n",
              "      <td>1</td>\n",
              "      <td>1</td>\n",
              "      <td>80.0</td>\n",
              "      <td>Village Campestre II X Centro / Farol</td>\n",
              "      <td>Village Campestre II X Centro / Farol</td>\n",
              "      <td>Real Transportes Urbanos Ltda.</td>\n",
              "      <td>4636</td>\n",
              "      <td>46</td>\n",
              "      <td>2020-10-04 05:30:00</td>\n",
              "      <td>2020-10-04 05:26:00</td>\n",
              "      <td>45</td>\n",
              "      <td>40.0</td>\n",
              "      <td>ida</td>\n",
              "    </tr>\n",
              "    <tr>\n",
              "      <th>1</th>\n",
              "      <td>2</td>\n",
              "      <td>1</td>\n",
              "      <td>80.0</td>\n",
              "      <td>Village Campestre II X Centro / Farol</td>\n",
              "      <td>Village Campestre II X Centro / Farol</td>\n",
              "      <td>Real Transportes Urbanos Ltda.</td>\n",
              "      <td>4636</td>\n",
              "      <td>46</td>\n",
              "      <td>2020-10-04 06:15:00</td>\n",
              "      <td>2020-10-04 06:06:00</td>\n",
              "      <td>45</td>\n",
              "      <td>40.0</td>\n",
              "      <td>volta</td>\n",
              "    </tr>\n",
              "    <tr>\n",
              "      <th>2</th>\n",
              "      <td>3</td>\n",
              "      <td>1</td>\n",
              "      <td>88.0</td>\n",
              "      <td>Village Campestre II X Centro / Farol</td>\n",
              "      <td>Village Campestre II X Centro / Farol</td>\n",
              "      <td>Real Transportes Urbanos Ltda.</td>\n",
              "      <td>4636</td>\n",
              "      <td>46</td>\n",
              "      <td>2020-10-04 07:00:00</td>\n",
              "      <td>2020-10-04 06:58:00</td>\n",
              "      <td>45</td>\n",
              "      <td>43.0</td>\n",
              "      <td>ida</td>\n",
              "    </tr>\n",
              "    <tr>\n",
              "      <th>3</th>\n",
              "      <td>4</td>\n",
              "      <td>1</td>\n",
              "      <td>88.0</td>\n",
              "      <td>Village Campestre II X Centro / Farol</td>\n",
              "      <td>Village Campestre II X Centro / Farol</td>\n",
              "      <td>Real Transportes Urbanos Ltda.</td>\n",
              "      <td>4636</td>\n",
              "      <td>46</td>\n",
              "      <td>2020-10-04 07:45:00</td>\n",
              "      <td>2020-10-04 07:42:00</td>\n",
              "      <td>45</td>\n",
              "      <td>44.0</td>\n",
              "      <td>volta</td>\n",
              "    </tr>\n",
              "    <tr>\n",
              "      <th>4</th>\n",
              "      <td>5</td>\n",
              "      <td>1</td>\n",
              "      <td>87.0</td>\n",
              "      <td>Village Campestre II X Centro / Farol</td>\n",
              "      <td>Village Campestre II X Centro / Farol</td>\n",
              "      <td>Real Transportes Urbanos Ltda.</td>\n",
              "      <td>4636</td>\n",
              "      <td>46</td>\n",
              "      <td>2020-10-04 08:30:00</td>\n",
              "      <td>2020-10-04 08:31:00</td>\n",
              "      <td>45</td>\n",
              "      <td>44.0</td>\n",
              "      <td>ida</td>\n",
              "    </tr>\n",
              "    <tr>\n",
              "      <th>...</th>\n",
              "      <td>...</td>\n",
              "      <td>...</td>\n",
              "      <td>...</td>\n",
              "      <td>...</td>\n",
              "      <td>...</td>\n",
              "      <td>...</td>\n",
              "      <td>...</td>\n",
              "      <td>...</td>\n",
              "      <td>...</td>\n",
              "      <td>...</td>\n",
              "      <td>...</td>\n",
              "      <td>...</td>\n",
              "      <td>...</td>\n",
              "    </tr>\n",
              "    <tr>\n",
              "      <th>19523</th>\n",
              "      <td>21882</td>\n",
              "      <td>1</td>\n",
              "      <td>84.0</td>\n",
              "      <td>Cruz das Almas / Trapiche</td>\n",
              "      <td>TRAPICHE/CRUZ DAS ALMAS</td>\n",
              "      <td>Auto Viação Veleiro LTDA</td>\n",
              "      <td>3150</td>\n",
              "      <td>107</td>\n",
              "      <td>2020-10-06 19:36:00</td>\n",
              "      <td>2020-10-06 19:44:00</td>\n",
              "      <td>88</td>\n",
              "      <td>34.0</td>\n",
              "      <td>volta</td>\n",
              "    </tr>\n",
              "    <tr>\n",
              "      <th>19524</th>\n",
              "      <td>21885</td>\n",
              "      <td>3</td>\n",
              "      <td>65.0</td>\n",
              "      <td>Cruz das Almas / Trapiche</td>\n",
              "      <td>107-EMBARQUE SOMENTE COM CARTÃO</td>\n",
              "      <td>Auto Viação Veleiro LTDA</td>\n",
              "      <td>3139</td>\n",
              "      <td>107</td>\n",
              "      <td>2020-10-06 20:15:00</td>\n",
              "      <td>2020-10-06 20:23:00</td>\n",
              "      <td>55</td>\n",
              "      <td>37.0</td>\n",
              "      <td>ida</td>\n",
              "    </tr>\n",
              "    <tr>\n",
              "      <th>19525</th>\n",
              "      <td>21886</td>\n",
              "      <td>3</td>\n",
              "      <td>65.0</td>\n",
              "      <td>Cruz das Almas / Trapiche</td>\n",
              "      <td>107-EMBARQUE SOMENTE COM CARTÃO</td>\n",
              "      <td>Auto Viação Veleiro LTDA</td>\n",
              "      <td>3139</td>\n",
              "      <td>107</td>\n",
              "      <td>2020-10-06 21:11:00</td>\n",
              "      <td>2020-10-06 21:04:00</td>\n",
              "      <td>54</td>\n",
              "      <td>28.0</td>\n",
              "      <td>volta</td>\n",
              "    </tr>\n",
              "    <tr>\n",
              "      <th>19526</th>\n",
              "      <td>21887</td>\n",
              "      <td>1</td>\n",
              "      <td>36.0</td>\n",
              "      <td>Cruz das Almas / Trapiche</td>\n",
              "      <td>TRAPICHE/CRUZ DAS ALMAS</td>\n",
              "      <td>Auto Viação Veleiro LTDA</td>\n",
              "      <td>3150</td>\n",
              "      <td>107</td>\n",
              "      <td>2020-10-06 21:05:00</td>\n",
              "      <td>2020-10-06 21:03:00</td>\n",
              "      <td>45</td>\n",
              "      <td>36.0</td>\n",
              "      <td>ida</td>\n",
              "    </tr>\n",
              "    <tr>\n",
              "      <th>19527</th>\n",
              "      <td>21888</td>\n",
              "      <td>1</td>\n",
              "      <td>36.0</td>\n",
              "      <td>Cruz das Almas / Trapiche</td>\n",
              "      <td>TRAPICHE/CRUZ DAS ALMAS</td>\n",
              "      <td>Auto Viação Veleiro LTDA</td>\n",
              "      <td>3150</td>\n",
              "      <td>107</td>\n",
              "      <td>2020-10-06 21:51:00</td>\n",
              "      <td>2020-10-06 21:42:00</td>\n",
              "      <td>44</td>\n",
              "      <td>47.0</td>\n",
              "      <td>volta</td>\n",
              "    </tr>\n",
              "  </tbody>\n",
              "</table>\n",
              "<p>19528 rows × 13 columns</p>\n",
              "</div>"
            ],
            "text/plain": [
              "       numero_viagem_da_linha_no_dia  ...  sentido_viagem\n",
              "0                                  1  ...             ida\n",
              "1                                  2  ...           volta\n",
              "2                                  3  ...             ida\n",
              "3                                  4  ...           volta\n",
              "4                                  5  ...             ida\n",
              "...                              ...  ...             ...\n",
              "19523                          21882  ...           volta\n",
              "19524                          21885  ...             ida\n",
              "19525                          21886  ...           volta\n",
              "19526                          21887  ...             ida\n",
              "19527                          21888  ...           volta\n",
              "\n",
              "[19528 rows x 13 columns]"
            ]
          },
          "metadata": {
            "tags": []
          },
          "execution_count": 13
        }
      ]
    },
    {
      "cell_type": "markdown",
      "metadata": {
        "id": "7voKpkRcvmnh"
      },
      "source": [
        "Transformando variáveis categóricas em variáveis numéricas "
      ]
    },
    {
      "cell_type": "code",
      "metadata": {
        "id": "YRxtnc3z-3sI",
        "colab": {
          "base_uri": "https://localhost:8080/",
          "height": 204
        },
        "outputId": "e15aa980-a880-43b3-d0f7-88f3ebd8c934"
      },
      "source": [
        "# Criando variáveis 'adiantamento' e 'atraso' a partir de 'hora_prevista' e 'hora_realizada'\n",
        "adiantamento = pd.DataFrame(np.where(df['hora_prevista']>df['hora_realizada'], 1, 0), columns=['adiantamento'])\n",
        "atraso = pd.DataFrame(np.where(df['hora_prevista']<df['hora_realizada'], 1, 0), columns=['atraso'])\n",
        "\n",
        "adiantamento.head()\n",
        "atraso.head()"
      ],
      "execution_count": null,
      "outputs": [
        {
          "output_type": "execute_result",
          "data": {
            "text/html": [
              "<div>\n",
              "<style scoped>\n",
              "    .dataframe tbody tr th:only-of-type {\n",
              "        vertical-align: middle;\n",
              "    }\n",
              "\n",
              "    .dataframe tbody tr th {\n",
              "        vertical-align: top;\n",
              "    }\n",
              "\n",
              "    .dataframe thead th {\n",
              "        text-align: right;\n",
              "    }\n",
              "</style>\n",
              "<table border=\"1\" class=\"dataframe\">\n",
              "  <thead>\n",
              "    <tr style=\"text-align: right;\">\n",
              "      <th></th>\n",
              "      <th>atraso</th>\n",
              "    </tr>\n",
              "  </thead>\n",
              "  <tbody>\n",
              "    <tr>\n",
              "      <th>0</th>\n",
              "      <td>0</td>\n",
              "    </tr>\n",
              "    <tr>\n",
              "      <th>1</th>\n",
              "      <td>0</td>\n",
              "    </tr>\n",
              "    <tr>\n",
              "      <th>2</th>\n",
              "      <td>0</td>\n",
              "    </tr>\n",
              "    <tr>\n",
              "      <th>3</th>\n",
              "      <td>0</td>\n",
              "    </tr>\n",
              "    <tr>\n",
              "      <th>4</th>\n",
              "      <td>1</td>\n",
              "    </tr>\n",
              "  </tbody>\n",
              "</table>\n",
              "</div>"
            ],
            "text/plain": [
              "   atraso\n",
              "0       0\n",
              "1       0\n",
              "2       0\n",
              "3       0\n",
              "4       1"
            ]
          },
          "metadata": {
            "tags": []
          },
          "execution_count": 50
        }
      ]
    },
    {
      "cell_type": "code",
      "metadata": {
        "colab": {
          "base_uri": "https://localhost:8080/",
          "height": 419
        },
        "id": "BHc59oJ2vPnx",
        "outputId": "6e6d593e-e4e5-4dbd-80e5-d9c27ff8adda"
      },
      "source": [
        "# Trocando o nome da empresa por um inteiro\n",
        "from sklearn import preprocessing\n",
        "\n",
        "label = preprocessing.LabelEncoder()\n",
        "\n",
        "empresa = {'empresa': label.fit_transform(df['empresa'])}\n",
        "empresa_df = pd.DataFrame(data=empresa)\n",
        "\n",
        "empresa_dict = dict(zip([0,1,2,3], label.classes_)) # dicionário \n",
        "empresa_df"
      ],
      "execution_count": null,
      "outputs": [
        {
          "output_type": "execute_result",
          "data": {
            "text/html": [
              "<div>\n",
              "<style scoped>\n",
              "    .dataframe tbody tr th:only-of-type {\n",
              "        vertical-align: middle;\n",
              "    }\n",
              "\n",
              "    .dataframe tbody tr th {\n",
              "        vertical-align: top;\n",
              "    }\n",
              "\n",
              "    .dataframe thead th {\n",
              "        text-align: right;\n",
              "    }\n",
              "</style>\n",
              "<table border=\"1\" class=\"dataframe\">\n",
              "  <thead>\n",
              "    <tr style=\"text-align: right;\">\n",
              "      <th></th>\n",
              "      <th>empresa</th>\n",
              "    </tr>\n",
              "  </thead>\n",
              "  <tbody>\n",
              "    <tr>\n",
              "      <th>0</th>\n",
              "      <td>2</td>\n",
              "    </tr>\n",
              "    <tr>\n",
              "      <th>1</th>\n",
              "      <td>2</td>\n",
              "    </tr>\n",
              "    <tr>\n",
              "      <th>2</th>\n",
              "      <td>2</td>\n",
              "    </tr>\n",
              "    <tr>\n",
              "      <th>3</th>\n",
              "      <td>2</td>\n",
              "    </tr>\n",
              "    <tr>\n",
              "      <th>4</th>\n",
              "      <td>2</td>\n",
              "    </tr>\n",
              "    <tr>\n",
              "      <th>...</th>\n",
              "      <td>...</td>\n",
              "    </tr>\n",
              "    <tr>\n",
              "      <th>19523</th>\n",
              "      <td>0</td>\n",
              "    </tr>\n",
              "    <tr>\n",
              "      <th>19524</th>\n",
              "      <td>0</td>\n",
              "    </tr>\n",
              "    <tr>\n",
              "      <th>19525</th>\n",
              "      <td>0</td>\n",
              "    </tr>\n",
              "    <tr>\n",
              "      <th>19526</th>\n",
              "      <td>0</td>\n",
              "    </tr>\n",
              "    <tr>\n",
              "      <th>19527</th>\n",
              "      <td>0</td>\n",
              "    </tr>\n",
              "  </tbody>\n",
              "</table>\n",
              "<p>19528 rows × 1 columns</p>\n",
              "</div>"
            ],
            "text/plain": [
              "       empresa\n",
              "0            2\n",
              "1            2\n",
              "2            2\n",
              "3            2\n",
              "4            2\n",
              "...        ...\n",
              "19523        0\n",
              "19524        0\n",
              "19525        0\n",
              "19526        0\n",
              "19527        0\n",
              "\n",
              "[19528 rows x 1 columns]"
            ]
          },
          "metadata": {
            "tags": []
          },
          "execution_count": 15
        }
      ]
    },
    {
      "cell_type": "code",
      "metadata": {
        "colab": {
          "base_uri": "https://localhost:8080/"
        },
        "id": "s-dC83qbaVem",
        "outputId": "31071b63-bb96-4573-9c70-1be390ecae1a"
      },
      "source": [
        "# Trocando o sentido da viagem (ida e volta) por um inteiro\n",
        "from sklearn import preprocessing\n",
        "\n",
        "label = preprocessing.LabelEncoder()\n",
        "\n",
        "sentido = {'sentido': label.fit_transform(df['sentido_viagem'])}\n",
        "sentido_df = pd.DataFrame(data=sentido) # 0 = ida, 1 = volta\n",
        "\n",
        "sentido_dict = dict(zip([0,1], label.classes_)) # dicionário \n",
        "sentido_df \n",
        "\n",
        "#sentido = pd.get_dummies(df['sentido_viagem'])\n",
        "#sentido"
      ],
      "execution_count": 115,
      "outputs": [
        {
          "output_type": "execute_result",
          "data": {
            "text/plain": [
              "9525"
            ]
          },
          "metadata": {
            "tags": []
          },
          "execution_count": 115
        }
      ]
    },
    {
      "cell_type": "code",
      "metadata": {
        "colab": {
          "base_uri": "https://localhost:8080/"
        },
        "id": "BnNRtP_37tLq",
        "outputId": "be770a52-affd-42db-e276-2b5944c0c8f7"
      },
      "source": [
        "# Criando uma variável para cada valor único de 'sentido_viagem'\n",
        "numero_linha = df['numero_linha']\n",
        "\n",
        "numero_linha.head()"
      ],
      "execution_count": null,
      "outputs": [
        {
          "output_type": "execute_result",
          "data": {
            "text/plain": [
              "0    46\n",
              "1    46\n",
              "2    46\n",
              "3    46\n",
              "4    46\n",
              "Name: numero_linha, dtype: int64"
            ]
          },
          "metadata": {
            "tags": []
          },
          "execution_count": 17
        }
      ]
    },
    {
      "cell_type": "code",
      "metadata": {
        "colab": {
          "base_uri": "https://localhost:8080/",
          "height": 419
        },
        "id": "XRHc7Et-AIk5",
        "outputId": "34b8903b-c2dc-49fb-bc16-5963179a6959"
      },
      "source": [
        "# Features/Variáveis selecionadas para o dataset\n",
        "# adiantamento, atraso, empresa e sentido_viagem\n",
        "data = pd.concat([adiantamento, atraso, empresa_df, numero_linha, sentido_df], axis=1)\n",
        "data"
      ],
      "execution_count": 52,
      "outputs": [
        {
          "output_type": "execute_result",
          "data": {
            "text/html": [
              "<div>\n",
              "<style scoped>\n",
              "    .dataframe tbody tr th:only-of-type {\n",
              "        vertical-align: middle;\n",
              "    }\n",
              "\n",
              "    .dataframe tbody tr th {\n",
              "        vertical-align: top;\n",
              "    }\n",
              "\n",
              "    .dataframe thead th {\n",
              "        text-align: right;\n",
              "    }\n",
              "</style>\n",
              "<table border=\"1\" class=\"dataframe\">\n",
              "  <thead>\n",
              "    <tr style=\"text-align: right;\">\n",
              "      <th></th>\n",
              "      <th>adiantamento</th>\n",
              "      <th>atraso</th>\n",
              "      <th>empresa</th>\n",
              "      <th>numero_linha</th>\n",
              "      <th>sentido</th>\n",
              "    </tr>\n",
              "  </thead>\n",
              "  <tbody>\n",
              "    <tr>\n",
              "      <th>0</th>\n",
              "      <td>1</td>\n",
              "      <td>0</td>\n",
              "      <td>2</td>\n",
              "      <td>46</td>\n",
              "      <td>0</td>\n",
              "    </tr>\n",
              "    <tr>\n",
              "      <th>1</th>\n",
              "      <td>1</td>\n",
              "      <td>0</td>\n",
              "      <td>2</td>\n",
              "      <td>46</td>\n",
              "      <td>1</td>\n",
              "    </tr>\n",
              "    <tr>\n",
              "      <th>2</th>\n",
              "      <td>1</td>\n",
              "      <td>0</td>\n",
              "      <td>2</td>\n",
              "      <td>46</td>\n",
              "      <td>0</td>\n",
              "    </tr>\n",
              "    <tr>\n",
              "      <th>3</th>\n",
              "      <td>1</td>\n",
              "      <td>0</td>\n",
              "      <td>2</td>\n",
              "      <td>46</td>\n",
              "      <td>1</td>\n",
              "    </tr>\n",
              "    <tr>\n",
              "      <th>4</th>\n",
              "      <td>0</td>\n",
              "      <td>1</td>\n",
              "      <td>2</td>\n",
              "      <td>46</td>\n",
              "      <td>0</td>\n",
              "    </tr>\n",
              "    <tr>\n",
              "      <th>...</th>\n",
              "      <td>...</td>\n",
              "      <td>...</td>\n",
              "      <td>...</td>\n",
              "      <td>...</td>\n",
              "      <td>...</td>\n",
              "    </tr>\n",
              "    <tr>\n",
              "      <th>19523</th>\n",
              "      <td>0</td>\n",
              "      <td>1</td>\n",
              "      <td>0</td>\n",
              "      <td>107</td>\n",
              "      <td>1</td>\n",
              "    </tr>\n",
              "    <tr>\n",
              "      <th>19524</th>\n",
              "      <td>0</td>\n",
              "      <td>1</td>\n",
              "      <td>0</td>\n",
              "      <td>107</td>\n",
              "      <td>0</td>\n",
              "    </tr>\n",
              "    <tr>\n",
              "      <th>19525</th>\n",
              "      <td>1</td>\n",
              "      <td>0</td>\n",
              "      <td>0</td>\n",
              "      <td>107</td>\n",
              "      <td>1</td>\n",
              "    </tr>\n",
              "    <tr>\n",
              "      <th>19526</th>\n",
              "      <td>1</td>\n",
              "      <td>0</td>\n",
              "      <td>0</td>\n",
              "      <td>107</td>\n",
              "      <td>0</td>\n",
              "    </tr>\n",
              "    <tr>\n",
              "      <th>19527</th>\n",
              "      <td>1</td>\n",
              "      <td>0</td>\n",
              "      <td>0</td>\n",
              "      <td>107</td>\n",
              "      <td>1</td>\n",
              "    </tr>\n",
              "  </tbody>\n",
              "</table>\n",
              "<p>19528 rows × 5 columns</p>\n",
              "</div>"
            ],
            "text/plain": [
              "       adiantamento  atraso  empresa  numero_linha  sentido\n",
              "0                 1       0        2            46        0\n",
              "1                 1       0        2            46        1\n",
              "2                 1       0        2            46        0\n",
              "3                 1       0        2            46        1\n",
              "4                 0       1        2            46        0\n",
              "...             ...     ...      ...           ...      ...\n",
              "19523             0       1        0           107        1\n",
              "19524             0       1        0           107        0\n",
              "19525             1       0        0           107        1\n",
              "19526             1       0        0           107        0\n",
              "19527             1       0        0           107        1\n",
              "\n",
              "[19528 rows x 5 columns]"
            ]
          },
          "metadata": {
            "tags": []
          },
          "execution_count": 52
        }
      ]
    },
    {
      "cell_type": "code",
      "metadata": {
        "colab": {
          "base_uri": "https://localhost:8080/"
        },
        "id": "ju-ugoDGIpUO",
        "outputId": "059e3969-bf59-4b7c-a50a-ba463aeb27a8"
      },
      "source": [
        "print('Data com valores nulos: \\n', data.isnull().sum())"
      ],
      "execution_count": null,
      "outputs": [
        {
          "output_type": "stream",
          "text": [
            "Data com valores nulos: \n",
            " adiantamento                      0\n",
            "atraso                            0\n",
            "empresa                           0\n",
            "Auto Viação Veleiro LTDA          0\n",
            "Empresa São Francisco             0\n",
            "Real Transportes Urbanos Ltda.    0\n",
            "Viação Cidade de Maceió           0\n",
            "numero_linha                      0\n",
            "sentido                           0\n",
            "dtype: int64\n"
          ],
          "name": "stdout"
        }
      ]
    },
    {
      "cell_type": "code",
      "metadata": {
        "colab": {
          "base_uri": "https://localhost:8080/"
        },
        "id": "FXbii-zJ2ueP",
        "outputId": "9ec84e97-2ed4-45fb-adbe-db4a6dfb4c59"
      },
      "source": [
        "# Contagem das variáveis em relação ao atraso e adiantamento\n",
        "\n",
        "e_at = data[['empresa', 'atraso']].groupby(['empresa'], as_index=False).sum().sort_values(by='empresa')\n",
        "e_ad = data[['empresa', 'adiantamento']].groupby(['empresa'], as_index=False).sum().sort_values(by='empresa')\n",
        "sen_at = data[['sentido', 'atraso']].groupby(['sentido'], as_index=False).sum().sort_values(by='sentido')\n",
        "sen_ad = data[['sentido', 'adiantamento']].groupby(['sentido'], as_index=False).sum().sort_values(by='sentido')\n",
        "nl_at = data[['numero_linha', 'atraso']].groupby(['numero_linha'], as_index=False).sum().sort_values(by='numero_linha')\n",
        "nl_ad = data[['numero_linha', 'adiantamento']].groupby(['numero_linha'], as_index=False).sum().sort_values(by='numero_linha')\n",
        "soma_at = data['atraso'].sum()\n",
        "soma_ad = data['adiantamento'].sum()\n",
        "print(soma_at, soma_ad)"
      ],
      "execution_count": 113,
      "outputs": [
        {
          "output_type": "stream",
          "text": [
            "9987 7904\n"
          ],
          "name": "stdout"
        }
      ]
    },
    {
      "cell_type": "markdown",
      "metadata": {
        "id": "FDxv1upEftP1"
      },
      "source": [
        "Explorando os dados com estatísticas descritivas e gráficas para descrever e resumir as features."
      ]
    },
    {
      "cell_type": "code",
      "metadata": {
        "colab": {
          "base_uri": "https://localhost:8080/",
          "height": 497
        },
        "id": "4haTfBoDinu4",
        "outputId": "0b16bfe6-6db2-4dbf-da6f-29e2a14b01e8"
      },
      "source": [
        "#VISUALIZAÇÃO GERAL DE ATRASO\n",
        "X = np.arange(1)\n",
        "fig = plt.figure(figsize = (4, 6))\n",
        "indx = np.arange(2)\n",
        "ax = fig.add_axes([0,0,1,1])\n",
        "ax.bar(X + 0.4, soma_ad, color = 'pink', width = 0.2, label = 'sem atraso')\n",
        "ax.bar(X + 0.6, soma_at, color = 'r', width = 0.2, label = 'atraso')\n",
        "ax.set_xticks(indx)\n",
        "ax.legend()"
      ],
      "execution_count": 144,
      "outputs": [
        {
          "output_type": "execute_result",
          "data": {
            "text/plain": [
              "<matplotlib.legend.Legend at 0x7f76617e6c50>"
            ]
          },
          "metadata": {
            "tags": []
          },
          "execution_count": 144
        },
        {
          "output_type": "display_data",
          "data": {
            "image/png": "[encoded data removed]",
            "text/plain": [
              "<Figure size 288x432 with 1 Axes>"
            ]
          },
          "metadata": {
            "tags": [],
            "needs_background": "light"
          }
        }
      ]
    },
    {
      "cell_type": "code",
      "metadata": {
        "colab": {
          "base_uri": "https://localhost:8080/",
          "height": 641
        },
        "id": "-E1kWLcW8UCB",
        "outputId": "d4a9e93a-663e-459f-8875-ef0e868d34ab"
      },
      "source": [
        "#VISUALIZAÇÃO ATRASO POR EMPRESA\n",
        "X = np.arange(4)\n",
        "fig = plt.figure(figsize = (10, 8))\n",
        "labels = ['Auto Viação Veleiro LTDA','Empresa São Francisco','Real Transportes Urbanos Ltda.','Viação Cidade de Maceió']\n",
        "indx = np.arange(len(labels))\n",
        "ax = fig.add_axes([0,0,1,1])\n",
        "ax.bar(X + 0.0, e_ad['adiantamento'], color = 'pink', width = 0.2, label = 'sem atraso')\n",
        "ax.bar(X + 0.2, e_at['atraso'], color = 'r', width = 0.2, label = 'atraso')\n",
        "ax.set_xticks(indx)\n",
        "ax.set_xticklabels(labels)\n",
        "ax.legend()"
      ],
      "execution_count": 145,
      "outputs": [
        {
          "output_type": "execute_result",
          "data": {
            "text/plain": [
              "<matplotlib.legend.Legend at 0x7f76617d8ac8>"
            ]
          },
          "metadata": {
            "tags": []
          },
          "execution_count": 145
        },
        {
          "output_type": "display_data",
          "data": {
            "image/png": "[encoded data removed]",
            "text/plain": [
              "<Figure size 720x576 with 1 Axes>"
            ]
          },
          "metadata": {
            "tags": [],
            "needs_background": "light"
          }
        }
      ]
    },
    {
      "cell_type": "code",
      "metadata": {
        "colab": {
          "base_uri": "https://localhost:8080/",
          "height": 497
        },
        "id": "xKsfBdRcbZm0",
        "outputId": "2003158d-8887-4f65-f1ac-0dee98544a97"
      },
      "source": [
        "#VISUALIZAÇÃO GERAL IDA E VOLTA\n",
        "X = np.arange(2)\n",
        "fig = plt.figure(figsize = (6, 6))\n",
        "labels = ['ida', 'volta']\n",
        "indx = np.arange(len(labels))\n",
        "\n",
        "ax = fig.add_axes([0,0,1,1])\n",
        "ax.bar(X + 0.0, sen_ad['adiantamento'], color = 'y', width = 0.2, label = 'sem atraso')\n",
        "ax.bar(X + 0.2, sen_at['atraso'], color = 'g', width = 0.2, label = 'atraso')\n",
        "ax.set_xticks(indx)\n",
        "ax.set_xticklabels(labels)\n",
        "ax.legend()"
      ],
      "execution_count": 141,
      "outputs": [
        {
          "output_type": "execute_result",
          "data": {
            "text/plain": [
              "<matplotlib.legend.Legend at 0x7f76619798d0>"
            ]
          },
          "metadata": {
            "tags": []
          },
          "execution_count": 141
        },
        {
          "output_type": "display_data",
          "data": {
            "image/png": "[encoded data removed]",
            "text/plain": [
              "<Figure size 432x432 with 1 Axes>"
            ]
          },
          "metadata": {
            "tags": [],
            "needs_background": "light"
          }
        }
      ]
    },
    {
      "cell_type": "code",
      "metadata": {
        "id": "2IUj9DzvFFNt"
      },
      "source": [
        "empresa0 = data.loc[data['empresa'] == 0]\n",
        "empresa1 = data.loc[data['empresa'] == 1]\n",
        "empresa2 = data.loc[data['empresa'] == 2]\n",
        "empresa3 = data.loc[data['empresa'] == 3]\n",
        "\n",
        "# Empresa 0 \n",
        "e0_at = empresa0[['sentido', 'atraso']].groupby(['sentido'], as_index=False).sum().sort_values(by='sentido')\n",
        "e0_ad = empresa0[['sentido', 'adiantamento']].groupby(['sentido'], as_index=False).sum().sort_values(by='sentido')\n",
        "\n",
        "# Empresa 1\n",
        "e1_at = empresa1[['sentido', 'atraso']].groupby(['sentido'], as_index=False).sum().sort_values(by='sentido')\n",
        "e1_ad = empresa1[['sentido', 'adiantamento']].groupby(['sentido'], as_index=False).sum().sort_values(by='sentido')\n",
        "\n",
        "# Empresa 2\n",
        "e2_at = empresa2[['sentido', 'atraso']].groupby(['sentido'], as_index=False).sum().sort_values(by='sentido')\n",
        "e2_ad = empresa2[['sentido', 'adiantamento']].groupby(['sentido'], as_index=False).sum().sort_values(by='sentido')\n",
        "\n",
        "# Empresa 3\n",
        "e3_at = empresa3[['sentido', 'atraso']].groupby(['sentido'], as_index=False).sum().sort_values(by='sentido')\n",
        "e3_ad = empresa3[['sentido', 'adiantamento']].groupby(['sentido'], as_index=False).sum().sort_values(by='sentido')\n"
      ],
      "execution_count": 95,
      "outputs": []
    },
    {
      "cell_type": "code",
      "metadata": {
        "colab": {
          "base_uri": "https://localhost:8080/",
          "height": 401
        },
        "id": "-HGr4TyASADU",
        "outputId": "a009808c-b424-4da9-b442-81e9311efd35"
      },
      "source": [
        "#VISUALIZAÇÃO DO ATRASO EM CADA EMPRESA POR SENTIDO\n",
        "X = np.arange(2)\n",
        "labels = ['ida', 'volta']\n",
        "indx = np.arange(len(labels))\n",
        "\n",
        "fig, (ax, ax1, ax2, ax3) = plt.subplots(1, 4, figsize=(24,5))\n",
        "\n",
        "ax.bar(X + 0.0, e0_ad['adiantamento'], color='y', width = 0.2, label = 'sem atraso')\n",
        "ax.bar(X + 0.2, e0_at['atraso'], color = 'g', width = 0.2, label = 'atraso')\n",
        "ax.set_xticks(indx)\n",
        "ax.set_xticklabels(labels)\n",
        "ax.legend()\n",
        "\n",
        "ax1.bar(X + 0.0, e1_ad['adiantamento'], color = 'y', width = 0.2, label = 'sem atraso')\n",
        "ax1.bar(X + 0.2, e1_at['atraso'], color = 'g', width = 0.2, label = 'atraso')\n",
        "ax1.set_xticks(indx)\n",
        "ax1.set_xticklabels(labels)\n",
        "ax1.legend()\n",
        "\n",
        "ax2.bar(X + 0.0, e2_ad['adiantamento'], color = 'y', width = 0.2, label = 'sem atraso')\n",
        "ax2.bar(X + 0.2, e2_at['atraso'], color = 'g', width = 0.2, label = 'atraso')\n",
        "ax2.set_xticks(indx)\n",
        "ax2.set_xticklabels(labels)\n",
        "ax2.legend()\n",
        "\n",
        "ax3.bar(X + 0.0, e3_ad['adiantamento'], color = 'y', width = 0.2, label = 'sem atraso')\n",
        "ax3.bar(X + 0.2, e3_at['atraso'], color = 'g', width = 0.2, label = 'atraso')\n",
        "ax3.set_xticks(indx)\n",
        "ax3.set_xticklabels(labels)\n",
        "ax3.legend()\n",
        "\n",
        "ax.set(title=\"Auto Viação Veleiro LTDA\", xlabel=\"sentido\", ylabel=\"nº de viagens\")\n",
        "ax1.set(title=\"Empresa São Francisco\", xlabel=\"sentido\", ylabel=\"nº de viagens\")\n",
        "ax2.set(title=\"Real Transportes Urbanos Ltda.\", xlabel=\"sentido\", ylabel=\"nº de viagens\")\n",
        "ax3.set(title=\"Viação Cidade de Maceió\", xlabel=\"sentido\", ylabel=\"nº de viagens\")"
      ],
      "execution_count": 105,
      "outputs": [
        {
          "output_type": "execute_result",
          "data": {
            "text/plain": [
              "[Text(0, 0.5, 'nº de viagens'),\n",
              " Text(0.5, 0, 'sentido'),\n",
              " Text(0.5, 1.0, 'Viação Cidade de Maceió')]"
            ]
          },
          "metadata": {
            "tags": []
          },
          "execution_count": 105
        },
        {
          "output_type": "display_data",
          "data": {
            "image/png": "[encoded data removed]",
            "text/plain": [
              "<Figure size 1728x360 with 4 Axes>"
            ]
          },
          "metadata": {
            "tags": [],
            "needs_background": "light"
          }
        }
      ]
    },
    {
      "cell_type": "code",
      "metadata": {
        "colab": {
          "base_uri": "https://localhost:8080/",
          "height": 500
        },
        "id": "tBePo_horvv7",
        "outputId": "2be8c326-875b-4172-a4bb-f6197444d414"
      },
      "source": [
        "#VISUALIZAÇÃO GERAL ATRASO POR LINHA\n",
        "X = np.arange(len(nl_ad))\n",
        "fig = plt.figure(figsize = (32, 8))\n",
        "labels = nl_at['numero_linha']\n",
        "indx = np.arange(len(labels))\n",
        "ax = fig.add_axes([0,0,1,1])\n",
        "ax.bar(X + 0.0, nl_ad['adiantamento'], color = 'orange', width = 0.2, label = 'sem atraso')\n",
        "ax.bar(X + 0.2, nl_at['atraso'], color = 'brown', width = 0.2, label = 'atraso')\n",
        "ax.set_xticks(indx)\n",
        "ax.set_xticklabels(labels)\n",
        "ax.legend()"
      ],
      "execution_count": 146,
      "outputs": [
        {
          "output_type": "execute_result",
          "data": {
            "text/plain": [
              "<matplotlib.legend.Legend at 0x7f766153db00>"
            ]
          },
          "metadata": {
            "tags": []
          },
          "execution_count": 146
        },
        {
          "output_type": "display_data",
          "data": {
            "image/png": "[encoded data removed]",
            "text/plain": [
              "<Figure size 2304x576 with 1 Axes>"
            ]
          },
          "metadata": {
            "tags": [],
            "needs_background": "light"
          }
        }
      ]
    },
    {
      "cell_type": "code",
      "metadata": {
        "id": "nCDRsOwYmlBI",
        "colab": {
          "base_uri": "https://localhost:8080/",
          "height": 242
        },
        "outputId": "012baea5-ec60-44bb-f2d8-6e65e9b43e92"
      },
      "source": [
        "a = sns.FacetGrid( data, hue = 'atraso', aspect=4)\n",
        "a.map(sns.kdeplot, 'numero_linha', shade= True )\n",
        "a.set(xlim=(0 , data['numero_linha'].max()))\n",
        "a.add_legend()"
      ],
      "execution_count": null,
      "outputs": [
        {
          "output_type": "execute_result",
          "data": {
            "text/plain": [
              "<seaborn.axisgrid.FacetGrid at 0x7f7675bc2518>"
            ]
          },
          "metadata": {
            "tags": []
          },
          "execution_count": 27
        },
        {
          "output_type": "display_data",
          "data": {
            "image/png": "[encoded data removed]",
            "text/plain": [
              "<Figure size 906.375x216 with 1 Axes>"
            ]
          },
          "metadata": {
            "tags": [],
            "needs_background": "light"
          }
        }
      ]
    },
    {
      "cell_type": "markdown",
      "metadata": {
        "id": "6rvIivfdHvoZ"
      },
      "source": [
        "Visualizando os dados"
      ]
    },
    {
      "cell_type": "code",
      "metadata": {
        "id": "21QmZJ5rpwIJ",
        "colab": {
          "base_uri": "https://localhost:8080/",
          "height": 751
        },
        "outputId": "231196ca-9569-41b7-a397-33f15e645279"
      },
      "source": [
        "# Um heat map de correlação pode nos dar uma compreensão de quais variáveis são importantes\n",
        "\n",
        "f,ax = plt.subplots(figsize=(12, 10))\n",
        "cmap = sns.diverging_palette(0, 230, 90, 60, as_cmap=True)\n",
        "sns.heatmap(df.corr(), annot=True, linewidths=.5, fmt= '.2f',ax=ax, cmap=cmap, vmin=-1, vmax=1)\n",
        "plt.show()"
      ],
      "execution_count": null,
      "outputs": [
        {
          "output_type": "display_data",
          "data": {
            "image/png": "[encoded data removed]",
            "text/plain": [
              "<Figure size 864x720 with 2 Axes>"
            ]
          },
          "metadata": {
            "tags": [],
            "needs_background": "light"
          }
        }
      ]
    }
  ]
}