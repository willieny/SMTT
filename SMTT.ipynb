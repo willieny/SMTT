{
  "nbformat": 4,
  "nbformat_minor": 0,
  "metadata": {
    "colab": {
      "name": "SMTT.ipynb",
      "provenance": [],
      "collapsed_sections": [],
      "authorship_tag": "ABX9TyMZU5m9ew6oFMSyOBRV3Jvo",
      "include_colab_link": true
    },
    "kernelspec": {
      "name": "python3",
      "display_name": "Python 3"
    }
  },
  "cells": [
    {
      "cell_type": "markdown",
      "metadata": {
        "id": "view-in-github",
        "colab_type": "text"
      },
      "source": [
        "<a href=\"https://colab.research.google.com/github/willieny/SMTT/blob/main/SMTT.ipynb\" target=\"_parent\"><img src=\"https://colab.research.google.com/assets/colab-badge.svg\" alt=\"Open In Colab\"/></a>"
      ]
    },
    {
      "cell_type": "markdown",
      "metadata": {
        "id": "BedXU57Sro3X"
      },
      "source": [
        "Importando as libs"
      ]
    },
    {
      "cell_type": "code",
      "metadata": {
        "id": "d9mIVdHhoIu7"
      },
      "source": [
        "import pandas as pd\n",
        "import numpy as np\n",
        "import math\n",
        "\n",
        "from sklearn import preprocessing\n",
        "\n",
        "import matplotlib as mpl\n",
        "import matplotlib.pyplot as plt\n",
        "import matplotlib.pylab as pylab\n",
        "import seaborn as sns"
      ],
      "execution_count": 40,
      "outputs": []
    },
    {
      "cell_type": "markdown",
      "metadata": {
        "id": "T6UFQertrsrN"
      },
      "source": [
        "Lendo o dataset"
      ]
    },
    {
      "cell_type": "code",
      "metadata": {
        "colab": {
          "base_uri": "https://localhost:8080/",
          "height": 496
        },
        "id": "jplPqCHnriIY",
        "outputId": "ee6c88e8-15a9-4986-bdbb-2904a3d92c6e"
      },
      "source": [
        "df = pd.read_csv('viagens.csv')\n",
        "df.head()"
      ],
      "execution_count": 41,
      "outputs": [
        {
          "output_type": "execute_result",
          "data": {
            "text/html": [
              "<div>\n",
              "<style scoped>\n",
              "    .dataframe tbody tr th:only-of-type {\n",
              "        vertical-align: middle;\n",
              "    }\n",
              "\n",
              "    .dataframe tbody tr th {\n",
              "        vertical-align: top;\n",
              "    }\n",
              "\n",
              "    .dataframe thead th {\n",
              "        text-align: right;\n",
              "    }\n",
              "</style>\n",
              "<table border=\"1\" class=\"dataframe\">\n",
              "  <thead>\n",
              "    <tr style=\"text-align: right;\">\n",
              "      <th></th>\n",
              "      <th>Unnamed: 0</th>\n",
              "      <th>numero_viagem_da_linha_no_dia</th>\n",
              "      <th>ordem_veiculo_na_linha_no_dia</th>\n",
              "      <th>duracao_total_realizada</th>\n",
              "      <th>nome_linha</th>\n",
              "      <th>atendimento</th>\n",
              "      <th>empresa</th>\n",
              "      <th>numero_ordem_veiculo</th>\n",
              "      <th>numero_linha</th>\n",
              "      <th>hora_prevista</th>\n",
              "      <th>hora_realizada</th>\n",
              "      <th>duracao_prevista</th>\n",
              "      <th>duracao_realizada</th>\n",
              "      <th>sentido_viagem</th>\n",
              "    </tr>\n",
              "  </thead>\n",
              "  <tbody>\n",
              "    <tr>\n",
              "      <th>0</th>\n",
              "      <td>0</td>\n",
              "      <td>1</td>\n",
              "      <td>1</td>\n",
              "      <td>80.0</td>\n",
              "      <td>Village Campestre II X Centro / Farol</td>\n",
              "      <td>Village Campestre II X Centro / Farol</td>\n",
              "      <td>Real Transportes Urbanos Ltda.</td>\n",
              "      <td>4636</td>\n",
              "      <td>46</td>\n",
              "      <td>2020-10-04 05:30:00</td>\n",
              "      <td>2020-10-04 05:26:00</td>\n",
              "      <td>45</td>\n",
              "      <td>40.0</td>\n",
              "      <td>ida</td>\n",
              "    </tr>\n",
              "    <tr>\n",
              "      <th>1</th>\n",
              "      <td>1</td>\n",
              "      <td>2</td>\n",
              "      <td>1</td>\n",
              "      <td>80.0</td>\n",
              "      <td>Village Campestre II X Centro / Farol</td>\n",
              "      <td>Village Campestre II X Centro / Farol</td>\n",
              "      <td>Real Transportes Urbanos Ltda.</td>\n",
              "      <td>4636</td>\n",
              "      <td>46</td>\n",
              "      <td>2020-10-04 06:15:00</td>\n",
              "      <td>2020-10-04 06:06:00</td>\n",
              "      <td>45</td>\n",
              "      <td>40.0</td>\n",
              "      <td>volta</td>\n",
              "    </tr>\n",
              "    <tr>\n",
              "      <th>2</th>\n",
              "      <td>2</td>\n",
              "      <td>3</td>\n",
              "      <td>1</td>\n",
              "      <td>88.0</td>\n",
              "      <td>Village Campestre II X Centro / Farol</td>\n",
              "      <td>Village Campestre II X Centro / Farol</td>\n",
              "      <td>Real Transportes Urbanos Ltda.</td>\n",
              "      <td>4636</td>\n",
              "      <td>46</td>\n",
              "      <td>2020-10-04 07:00:00</td>\n",
              "      <td>2020-10-04 06:58:00</td>\n",
              "      <td>45</td>\n",
              "      <td>43.0</td>\n",
              "      <td>ida</td>\n",
              "    </tr>\n",
              "    <tr>\n",
              "      <th>3</th>\n",
              "      <td>3</td>\n",
              "      <td>4</td>\n",
              "      <td>1</td>\n",
              "      <td>88.0</td>\n",
              "      <td>Village Campestre II X Centro / Farol</td>\n",
              "      <td>Village Campestre II X Centro / Farol</td>\n",
              "      <td>Real Transportes Urbanos Ltda.</td>\n",
              "      <td>4636</td>\n",
              "      <td>46</td>\n",
              "      <td>2020-10-04 07:45:00</td>\n",
              "      <td>2020-10-04 07:42:00</td>\n",
              "      <td>45</td>\n",
              "      <td>44.0</td>\n",
              "      <td>volta</td>\n",
              "    </tr>\n",
              "    <tr>\n",
              "      <th>4</th>\n",
              "      <td>4</td>\n",
              "      <td>5</td>\n",
              "      <td>1</td>\n",
              "      <td>87.0</td>\n",
              "      <td>Village Campestre II X Centro / Farol</td>\n",
              "      <td>Village Campestre II X Centro / Farol</td>\n",
              "      <td>Real Transportes Urbanos Ltda.</td>\n",
              "      <td>4636</td>\n",
              "      <td>46</td>\n",
              "      <td>2020-10-04 08:30:00</td>\n",
              "      <td>2020-10-04 08:31:00</td>\n",
              "      <td>45</td>\n",
              "      <td>44.0</td>\n",
              "      <td>ida</td>\n",
              "    </tr>\n",
              "  </tbody>\n",
              "</table>\n",
              "</div>"
            ],
            "text/plain": [
              "   Unnamed: 0  numero_viagem_da_linha_no_dia  ...  duracao_realizada  sentido_viagem\n",
              "0           0                              1  ...               40.0             ida\n",
              "1           1                              2  ...               40.0           volta\n",
              "2           2                              3  ...               43.0             ida\n",
              "3           3                              4  ...               44.0           volta\n",
              "4           4                              5  ...               44.0             ida\n",
              "\n",
              "[5 rows x 14 columns]"
            ]
          },
          "metadata": {
            "tags": []
          },
          "execution_count": 41
        }
      ]
    },
    {
      "cell_type": "code",
      "metadata": {
        "colab": {
          "base_uri": "https://localhost:8080/",
          "height": 496
        },
        "id": "Gn9Fys_ml98p",
        "outputId": "1ab2b3e6-b2b2-4e1f-d0d5-2dd4ecbfbf28"
      },
      "source": [
        "df.tail()"
      ],
      "execution_count": 42,
      "outputs": [
        {
          "output_type": "execute_result",
          "data": {
            "text/html": [
              "<div>\n",
              "<style scoped>\n",
              "    .dataframe tbody tr th:only-of-type {\n",
              "        vertical-align: middle;\n",
              "    }\n",
              "\n",
              "    .dataframe tbody tr th {\n",
              "        vertical-align: top;\n",
              "    }\n",
              "\n",
              "    .dataframe thead th {\n",
              "        text-align: right;\n",
              "    }\n",
              "</style>\n",
              "<table border=\"1\" class=\"dataframe\">\n",
              "  <thead>\n",
              "    <tr style=\"text-align: right;\">\n",
              "      <th></th>\n",
              "      <th>Unnamed: 0</th>\n",
              "      <th>numero_viagem_da_linha_no_dia</th>\n",
              "      <th>ordem_veiculo_na_linha_no_dia</th>\n",
              "      <th>duracao_total_realizada</th>\n",
              "      <th>nome_linha</th>\n",
              "      <th>atendimento</th>\n",
              "      <th>empresa</th>\n",
              "      <th>numero_ordem_veiculo</th>\n",
              "      <th>numero_linha</th>\n",
              "      <th>hora_prevista</th>\n",
              "      <th>hora_realizada</th>\n",
              "      <th>duracao_prevista</th>\n",
              "      <th>duracao_realizada</th>\n",
              "      <th>sentido_viagem</th>\n",
              "    </tr>\n",
              "  </thead>\n",
              "  <tbody>\n",
              "    <tr>\n",
              "      <th>21697</th>\n",
              "      <td>21697</td>\n",
              "      <td>21886</td>\n",
              "      <td>3</td>\n",
              "      <td>65.0</td>\n",
              "      <td>Cruz das Almas / Trapiche</td>\n",
              "      <td>107-EMBARQUE SOMENTE COM CARTÃO</td>\n",
              "      <td>Auto Viação Veleiro LTDA</td>\n",
              "      <td>3139</td>\n",
              "      <td>107</td>\n",
              "      <td>2020-10-06 21:11:00</td>\n",
              "      <td>2020-10-06 21:04:00</td>\n",
              "      <td>54</td>\n",
              "      <td>28.0</td>\n",
              "      <td>volta</td>\n",
              "    </tr>\n",
              "    <tr>\n",
              "      <th>21698</th>\n",
              "      <td>21698</td>\n",
              "      <td>21887</td>\n",
              "      <td>1</td>\n",
              "      <td>36.0</td>\n",
              "      <td>Cruz das Almas / Trapiche</td>\n",
              "      <td>TRAPICHE/CRUZ DAS ALMAS</td>\n",
              "      <td>Auto Viação Veleiro LTDA</td>\n",
              "      <td>3150</td>\n",
              "      <td>107</td>\n",
              "      <td>2020-10-06 21:05:00</td>\n",
              "      <td>2020-10-06 21:03:00</td>\n",
              "      <td>45</td>\n",
              "      <td>36.0</td>\n",
              "      <td>ida</td>\n",
              "    </tr>\n",
              "    <tr>\n",
              "      <th>21699</th>\n",
              "      <td>21699</td>\n",
              "      <td>21888</td>\n",
              "      <td>1</td>\n",
              "      <td>36.0</td>\n",
              "      <td>Cruz das Almas / Trapiche</td>\n",
              "      <td>TRAPICHE/CRUZ DAS ALMAS</td>\n",
              "      <td>Auto Viação Veleiro LTDA</td>\n",
              "      <td>3150</td>\n",
              "      <td>107</td>\n",
              "      <td>2020-10-06 21:51:00</td>\n",
              "      <td>2020-10-06 21:42:00</td>\n",
              "      <td>44</td>\n",
              "      <td>NaN</td>\n",
              "      <td>volta</td>\n",
              "    </tr>\n",
              "    <tr>\n",
              "      <th>21700</th>\n",
              "      <td>21700</td>\n",
              "      <td>21889</td>\n",
              "      <td>2</td>\n",
              "      <td>NaN</td>\n",
              "      <td>Cruz das Almas / Trapiche</td>\n",
              "      <td>TRAPICHE/CRUZ DAS ALMAS</td>\n",
              "      <td>Auto Viação Veleiro LTDA</td>\n",
              "      <td>3805</td>\n",
              "      <td>107</td>\n",
              "      <td>2020-10-06 21:55:00</td>\n",
              "      <td>NaN</td>\n",
              "      <td>45</td>\n",
              "      <td>NaN</td>\n",
              "      <td>ida</td>\n",
              "    </tr>\n",
              "    <tr>\n",
              "      <th>21701</th>\n",
              "      <td>21701</td>\n",
              "      <td>21890</td>\n",
              "      <td>2</td>\n",
              "      <td>NaN</td>\n",
              "      <td>Cruz das Almas / Trapiche</td>\n",
              "      <td>TRAPICHE/CRUZ DAS ALMAS</td>\n",
              "      <td>Auto Viação Veleiro LTDA</td>\n",
              "      <td>3805</td>\n",
              "      <td>107</td>\n",
              "      <td>2020-10-06 22:41:00</td>\n",
              "      <td>NaN</td>\n",
              "      <td>44</td>\n",
              "      <td>NaN</td>\n",
              "      <td>volta</td>\n",
              "    </tr>\n",
              "  </tbody>\n",
              "</table>\n",
              "</div>"
            ],
            "text/plain": [
              "       Unnamed: 0  ...  sentido_viagem\n",
              "21697       21697  ...           volta\n",
              "21698       21698  ...             ida\n",
              "21699       21699  ...           volta\n",
              "21700       21700  ...             ida\n",
              "21701       21701  ...           volta\n",
              "\n",
              "[5 rows x 14 columns]"
            ]
          },
          "metadata": {
            "tags": []
          },
          "execution_count": 42
        }
      ]
    },
    {
      "cell_type": "code",
      "metadata": {
        "colab": {
          "base_uri": "https://localhost:8080/"
        },
        "id": "vQ02-kTrm-8r",
        "outputId": "f012215c-4a56-444f-e8fd-b10f08c3df11"
      },
      "source": [
        "df.info()"
      ],
      "execution_count": 43,
      "outputs": [
        {
          "output_type": "stream",
          "text": [
            "<class 'pandas.core.frame.DataFrame'>\n",
            "RangeIndex: 21702 entries, 0 to 21701\n",
            "Data columns (total 14 columns):\n",
            " #   Column                         Non-Null Count  Dtype  \n",
            "---  ------                         --------------  -----  \n",
            " 0   Unnamed: 0                     21702 non-null  int64  \n",
            " 1   numero_viagem_da_linha_no_dia  21702 non-null  int64  \n",
            " 2   ordem_veiculo_na_linha_no_dia  21702 non-null  int64  \n",
            " 3   duracao_total_realizada        19072 non-null  float64\n",
            " 4   nome_linha                     21702 non-null  object \n",
            " 5   atendimento                    21702 non-null  object \n",
            " 6   empresa                        21702 non-null  object \n",
            " 7   numero_ordem_veiculo           21702 non-null  int64  \n",
            " 8   numero_linha                   21702 non-null  int64  \n",
            " 9   hora_prevista                  21702 non-null  object \n",
            " 10  hora_realizada                 19528 non-null  object \n",
            " 11  duracao_prevista               21702 non-null  int64  \n",
            " 12  duracao_realizada              18169 non-null  float64\n",
            " 13  sentido_viagem                 21702 non-null  object \n",
            "dtypes: float64(2), int64(6), object(6)\n",
            "memory usage: 2.3+ MB\n"
          ],
          "name": "stdout"
        }
      ]
    },
    {
      "cell_type": "markdown",
      "metadata": {
        "id": "ScOH2Losv1Fk"
      },
      "source": [
        "Tratando os dados "
      ]
    },
    {
      "cell_type": "code",
      "metadata": {
        "id": "5iLGJIWMr1NW"
      },
      "source": [
        "# Remove a primeira coluna, que representa o índice\n",
        "df = df.drop(['Unnamed: 0'], axis=1) "
      ],
      "execution_count": 44,
      "outputs": []
    },
    {
      "cell_type": "code",
      "metadata": {
        "colab": {
          "base_uri": "https://localhost:8080/"
        },
        "id": "MHV5DITewFHP",
        "outputId": "5073957b-49aa-4e01-84c1-e31a2575ee8d"
      },
      "source": [
        "# Identificando os dados faltantes\n",
        "df.isnull().sum()"
      ],
      "execution_count": 45,
      "outputs": [
        {
          "output_type": "execute_result",
          "data": {
            "text/plain": [
              "numero_viagem_da_linha_no_dia       0\n",
              "ordem_veiculo_na_linha_no_dia       0\n",
              "duracao_total_realizada          2630\n",
              "nome_linha                          0\n",
              "atendimento                         0\n",
              "empresa                             0\n",
              "numero_ordem_veiculo                0\n",
              "numero_linha                        0\n",
              "hora_prevista                       0\n",
              "hora_realizada                   2174\n",
              "duracao_prevista                    0\n",
              "duracao_realizada                3533\n",
              "sentido_viagem                      0\n",
              "dtype: int64"
            ]
          },
          "metadata": {
            "tags": []
          },
          "execution_count": 45
        }
      ]
    },
    {
      "cell_type": "code",
      "metadata": {
        "id": "IDaP-ULZ0omN"
      },
      "source": [
        "# Obtendo a média para substituir nos dados faltantes\n",
        "dtr_media = df['duracao_total_realizada'].mean()\n",
        "dr_media = df['duracao_realizada'].mean()\n",
        "\n",
        "# Arredondando a média\n",
        "dtr_media = math.floor(dtr_media)\n",
        "dr_media = math.floor(dr_media)\n",
        "\n",
        "# Dando update nos dados faltantes em 'duracao_total_realizada' e 'duracao_realizada'\n",
        "df.update(df['duracao_total_realizada'].fillna(dtr_media))\n",
        "df.update(df['duracao_realizada'].fillna(dr_media))"
      ],
      "execution_count": 46,
      "outputs": []
    },
    {
      "cell_type": "code",
      "metadata": {
        "id": "LbHdyO4906Gs",
        "colab": {
          "base_uri": "https://localhost:8080/"
        },
        "outputId": "6ad4b972-c630-450b-f170-369e8dac1388"
      },
      "source": [
        "# As viagens não realizadas não possuem valor em 'hora_realizada'. Dessa forma, uma vez que não será analisado o cumprimento de viagem, então serão removidas as linhas cujo valor em 'hora_realizada' esteja faltando.\n",
        "print('Antes de remover as linhas: ', df.shape)\n",
        "df = df.dropna(axis=0)\n",
        "print('Depois de remover as linhas: ', df.shape)"
      ],
      "execution_count": 47,
      "outputs": [
        {
          "output_type": "stream",
          "text": [
            "Antes de remover as linhas:  (21702, 13)\n",
            "Depois de remover as linhas:  (19528, 13)\n"
          ],
          "name": "stdout"
        }
      ]
    },
    {
      "cell_type": "code",
      "metadata": {
        "id": "euPj515H1y77",
        "colab": {
          "base_uri": "https://localhost:8080/"
        },
        "outputId": "91e0d0ba-76d5-48c4-8996-fd3de0b91abd"
      },
      "source": [
        "# Após update em 'duracao_total_realizada' e 'duracao_realizada'\n",
        "df.isnull().sum()"
      ],
      "execution_count": 48,
      "outputs": [
        {
          "output_type": "execute_result",
          "data": {
            "text/plain": [
              "numero_viagem_da_linha_no_dia    0\n",
              "ordem_veiculo_na_linha_no_dia    0\n",
              "duracao_total_realizada          0\n",
              "nome_linha                       0\n",
              "atendimento                      0\n",
              "empresa                          0\n",
              "numero_ordem_veiculo             0\n",
              "numero_linha                     0\n",
              "hora_prevista                    0\n",
              "hora_realizada                   0\n",
              "duracao_prevista                 0\n",
              "duracao_realizada                0\n",
              "sentido_viagem                   0\n",
              "dtype: int64"
            ]
          },
          "metadata": {
            "tags": []
          },
          "execution_count": 48
        }
      ]
    },
    {
      "cell_type": "code",
      "metadata": {
        "colab": {
          "base_uri": "https://localhost:8080/",
          "height": 949
        },
        "id": "4ieU7Vpa8RT0",
        "outputId": "286f094f-5450-4581-d98e-9685dc98e941"
      },
      "source": [
        "# Renomear o índice do dataset porque ao remover os dados faltantes em 'hora_realizada' o índice ficou com alguns buracos.\n",
        "index = []\n",
        "for j in range(len(df)):\n",
        "  index.append(j)\n",
        "\n",
        "df = df.set_index([pd.Index(index)])\n",
        "df"
      ],
      "execution_count": 49,
      "outputs": [
        {
          "output_type": "execute_result",
          "data": {
            "text/html": [
              "<div>\n",
              "<style scoped>\n",
              "    .dataframe tbody tr th:only-of-type {\n",
              "        vertical-align: middle;\n",
              "    }\n",
              "\n",
              "    .dataframe tbody tr th {\n",
              "        vertical-align: top;\n",
              "    }\n",
              "\n",
              "    .dataframe thead th {\n",
              "        text-align: right;\n",
              "    }\n",
              "</style>\n",
              "<table border=\"1\" class=\"dataframe\">\n",
              "  <thead>\n",
              "    <tr style=\"text-align: right;\">\n",
              "      <th></th>\n",
              "      <th>numero_viagem_da_linha_no_dia</th>\n",
              "      <th>ordem_veiculo_na_linha_no_dia</th>\n",
              "      <th>duracao_total_realizada</th>\n",
              "      <th>nome_linha</th>\n",
              "      <th>atendimento</th>\n",
              "      <th>empresa</th>\n",
              "      <th>numero_ordem_veiculo</th>\n",
              "      <th>numero_linha</th>\n",
              "      <th>hora_prevista</th>\n",
              "      <th>hora_realizada</th>\n",
              "      <th>duracao_prevista</th>\n",
              "      <th>duracao_realizada</th>\n",
              "      <th>sentido_viagem</th>\n",
              "    </tr>\n",
              "  </thead>\n",
              "  <tbody>\n",
              "    <tr>\n",
              "      <th>0</th>\n",
              "      <td>1</td>\n",
              "      <td>1</td>\n",
              "      <td>80.0</td>\n",
              "      <td>Village Campestre II X Centro / Farol</td>\n",
              "      <td>Village Campestre II X Centro / Farol</td>\n",
              "      <td>Real Transportes Urbanos Ltda.</td>\n",
              "      <td>4636</td>\n",
              "      <td>46</td>\n",
              "      <td>2020-10-04 05:30:00</td>\n",
              "      <td>2020-10-04 05:26:00</td>\n",
              "      <td>45</td>\n",
              "      <td>40.0</td>\n",
              "      <td>ida</td>\n",
              "    </tr>\n",
              "    <tr>\n",
              "      <th>1</th>\n",
              "      <td>2</td>\n",
              "      <td>1</td>\n",
              "      <td>80.0</td>\n",
              "      <td>Village Campestre II X Centro / Farol</td>\n",
              "      <td>Village Campestre II X Centro / Farol</td>\n",
              "      <td>Real Transportes Urbanos Ltda.</td>\n",
              "      <td>4636</td>\n",
              "      <td>46</td>\n",
              "      <td>2020-10-04 06:15:00</td>\n",
              "      <td>2020-10-04 06:06:00</td>\n",
              "      <td>45</td>\n",
              "      <td>40.0</td>\n",
              "      <td>volta</td>\n",
              "    </tr>\n",
              "    <tr>\n",
              "      <th>2</th>\n",
              "      <td>3</td>\n",
              "      <td>1</td>\n",
              "      <td>88.0</td>\n",
              "      <td>Village Campestre II X Centro / Farol</td>\n",
              "      <td>Village Campestre II X Centro / Farol</td>\n",
              "      <td>Real Transportes Urbanos Ltda.</td>\n",
              "      <td>4636</td>\n",
              "      <td>46</td>\n",
              "      <td>2020-10-04 07:00:00</td>\n",
              "      <td>2020-10-04 06:58:00</td>\n",
              "      <td>45</td>\n",
              "      <td>43.0</td>\n",
              "      <td>ida</td>\n",
              "    </tr>\n",
              "    <tr>\n",
              "      <th>3</th>\n",
              "      <td>4</td>\n",
              "      <td>1</td>\n",
              "      <td>88.0</td>\n",
              "      <td>Village Campestre II X Centro / Farol</td>\n",
              "      <td>Village Campestre II X Centro / Farol</td>\n",
              "      <td>Real Transportes Urbanos Ltda.</td>\n",
              "      <td>4636</td>\n",
              "      <td>46</td>\n",
              "      <td>2020-10-04 07:45:00</td>\n",
              "      <td>2020-10-04 07:42:00</td>\n",
              "      <td>45</td>\n",
              "      <td>44.0</td>\n",
              "      <td>volta</td>\n",
              "    </tr>\n",
              "    <tr>\n",
              "      <th>4</th>\n",
              "      <td>5</td>\n",
              "      <td>1</td>\n",
              "      <td>87.0</td>\n",
              "      <td>Village Campestre II X Centro / Farol</td>\n",
              "      <td>Village Campestre II X Centro / Farol</td>\n",
              "      <td>Real Transportes Urbanos Ltda.</td>\n",
              "      <td>4636</td>\n",
              "      <td>46</td>\n",
              "      <td>2020-10-04 08:30:00</td>\n",
              "      <td>2020-10-04 08:31:00</td>\n",
              "      <td>45</td>\n",
              "      <td>44.0</td>\n",
              "      <td>ida</td>\n",
              "    </tr>\n",
              "    <tr>\n",
              "      <th>...</th>\n",
              "      <td>...</td>\n",
              "      <td>...</td>\n",
              "      <td>...</td>\n",
              "      <td>...</td>\n",
              "      <td>...</td>\n",
              "      <td>...</td>\n",
              "      <td>...</td>\n",
              "      <td>...</td>\n",
              "      <td>...</td>\n",
              "      <td>...</td>\n",
              "      <td>...</td>\n",
              "      <td>...</td>\n",
              "      <td>...</td>\n",
              "    </tr>\n",
              "    <tr>\n",
              "      <th>19523</th>\n",
              "      <td>21882</td>\n",
              "      <td>1</td>\n",
              "      <td>84.0</td>\n",
              "      <td>Cruz das Almas / Trapiche</td>\n",
              "      <td>TRAPICHE/CRUZ DAS ALMAS</td>\n",
              "      <td>Auto Viação Veleiro LTDA</td>\n",
              "      <td>3150</td>\n",
              "      <td>107</td>\n",
              "      <td>2020-10-06 19:36:00</td>\n",
              "      <td>2020-10-06 19:44:00</td>\n",
              "      <td>88</td>\n",
              "      <td>34.0</td>\n",
              "      <td>volta</td>\n",
              "    </tr>\n",
              "    <tr>\n",
              "      <th>19524</th>\n",
              "      <td>21885</td>\n",
              "      <td>3</td>\n",
              "      <td>65.0</td>\n",
              "      <td>Cruz das Almas / Trapiche</td>\n",
              "      <td>107-EMBARQUE SOMENTE COM CARTÃO</td>\n",
              "      <td>Auto Viação Veleiro LTDA</td>\n",
              "      <td>3139</td>\n",
              "      <td>107</td>\n",
              "      <td>2020-10-06 20:15:00</td>\n",
              "      <td>2020-10-06 20:23:00</td>\n",
              "      <td>55</td>\n",
              "      <td>37.0</td>\n",
              "      <td>ida</td>\n",
              "    </tr>\n",
              "    <tr>\n",
              "      <th>19525</th>\n",
              "      <td>21886</td>\n",
              "      <td>3</td>\n",
              "      <td>65.0</td>\n",
              "      <td>Cruz das Almas / Trapiche</td>\n",
              "      <td>107-EMBARQUE SOMENTE COM CARTÃO</td>\n",
              "      <td>Auto Viação Veleiro LTDA</td>\n",
              "      <td>3139</td>\n",
              "      <td>107</td>\n",
              "      <td>2020-10-06 21:11:00</td>\n",
              "      <td>2020-10-06 21:04:00</td>\n",
              "      <td>54</td>\n",
              "      <td>28.0</td>\n",
              "      <td>volta</td>\n",
              "    </tr>\n",
              "    <tr>\n",
              "      <th>19526</th>\n",
              "      <td>21887</td>\n",
              "      <td>1</td>\n",
              "      <td>36.0</td>\n",
              "      <td>Cruz das Almas / Trapiche</td>\n",
              "      <td>TRAPICHE/CRUZ DAS ALMAS</td>\n",
              "      <td>Auto Viação Veleiro LTDA</td>\n",
              "      <td>3150</td>\n",
              "      <td>107</td>\n",
              "      <td>2020-10-06 21:05:00</td>\n",
              "      <td>2020-10-06 21:03:00</td>\n",
              "      <td>45</td>\n",
              "      <td>36.0</td>\n",
              "      <td>ida</td>\n",
              "    </tr>\n",
              "    <tr>\n",
              "      <th>19527</th>\n",
              "      <td>21888</td>\n",
              "      <td>1</td>\n",
              "      <td>36.0</td>\n",
              "      <td>Cruz das Almas / Trapiche</td>\n",
              "      <td>TRAPICHE/CRUZ DAS ALMAS</td>\n",
              "      <td>Auto Viação Veleiro LTDA</td>\n",
              "      <td>3150</td>\n",
              "      <td>107</td>\n",
              "      <td>2020-10-06 21:51:00</td>\n",
              "      <td>2020-10-06 21:42:00</td>\n",
              "      <td>44</td>\n",
              "      <td>47.0</td>\n",
              "      <td>volta</td>\n",
              "    </tr>\n",
              "  </tbody>\n",
              "</table>\n",
              "<p>19528 rows × 13 columns</p>\n",
              "</div>"
            ],
            "text/plain": [
              "       numero_viagem_da_linha_no_dia  ...  sentido_viagem\n",
              "0                                  1  ...             ida\n",
              "1                                  2  ...           volta\n",
              "2                                  3  ...             ida\n",
              "3                                  4  ...           volta\n",
              "4                                  5  ...             ida\n",
              "...                              ...  ...             ...\n",
              "19523                          21882  ...           volta\n",
              "19524                          21885  ...             ida\n",
              "19525                          21886  ...           volta\n",
              "19526                          21887  ...             ida\n",
              "19527                          21888  ...           volta\n",
              "\n",
              "[19528 rows x 13 columns]"
            ]
          },
          "metadata": {
            "tags": []
          },
          "execution_count": 49
        }
      ]
    },
    {
      "cell_type": "markdown",
      "metadata": {
        "id": "7voKpkRcvmnh"
      },
      "source": [
        "Transformando as variáveis categóricas em variáveis numéricas "
      ]
    },
    {
      "cell_type": "code",
      "metadata": {
        "id": "YRxtnc3z-3sI",
        "colab": {
          "base_uri": "https://localhost:8080/",
          "height": 204
        },
        "outputId": "cb05db1d-df4b-4718-e43f-7dd1f7b33e9d"
      },
      "source": [
        "# Criando variáveis 'adiantamento' e 'atraso' a partir de 'hora_prevista' e 'hora_realizada'\n",
        "adiantamento = pd.DataFrame(np.where(df['hora_prevista']>df['hora_realizada'], 1, 0), columns=['adiantamento'])\n",
        "atraso = pd.DataFrame(np.where(df['hora_prevista']<df['hora_realizada'], 1, 0), columns=['atraso'])\n",
        "\n",
        "adiantamento.head()\n",
        "atraso.head()"
      ],
      "execution_count": 50,
      "outputs": [
        {
          "output_type": "execute_result",
          "data": {
            "text/html": [
              "<div>\n",
              "<style scoped>\n",
              "    .dataframe tbody tr th:only-of-type {\n",
              "        vertical-align: middle;\n",
              "    }\n",
              "\n",
              "    .dataframe tbody tr th {\n",
              "        vertical-align: top;\n",
              "    }\n",
              "\n",
              "    .dataframe thead th {\n",
              "        text-align: right;\n",
              "    }\n",
              "</style>\n",
              "<table border=\"1\" class=\"dataframe\">\n",
              "  <thead>\n",
              "    <tr style=\"text-align: right;\">\n",
              "      <th></th>\n",
              "      <th>atraso</th>\n",
              "    </tr>\n",
              "  </thead>\n",
              "  <tbody>\n",
              "    <tr>\n",
              "      <th>0</th>\n",
              "      <td>0</td>\n",
              "    </tr>\n",
              "    <tr>\n",
              "      <th>1</th>\n",
              "      <td>0</td>\n",
              "    </tr>\n",
              "    <tr>\n",
              "      <th>2</th>\n",
              "      <td>0</td>\n",
              "    </tr>\n",
              "    <tr>\n",
              "      <th>3</th>\n",
              "      <td>0</td>\n",
              "    </tr>\n",
              "    <tr>\n",
              "      <th>4</th>\n",
              "      <td>1</td>\n",
              "    </tr>\n",
              "  </tbody>\n",
              "</table>\n",
              "</div>"
            ],
            "text/plain": [
              "   atraso\n",
              "0       0\n",
              "1       0\n",
              "2       0\n",
              "3       0\n",
              "4       1"
            ]
          },
          "metadata": {
            "tags": []
          },
          "execution_count": 50
        }
      ]
    },
    {
      "cell_type": "code",
      "metadata": {
        "colab": {
          "base_uri": "https://localhost:8080/",
          "height": 419
        },
        "id": "BHc59oJ2vPnx",
        "outputId": "e4b8aa9a-a6e6-4d61-a053-b85b53d386aa"
      },
      "source": [
        "# Trocando o nome da empresa por um inteiro\n",
        "label = preprocessing.LabelEncoder()\n",
        "\n",
        "empresa = {'empresa': label.fit_transform(df['empresa'])}\n",
        "empresa_df = pd.DataFrame(data=empresa)\n",
        "\n",
        "empresa_dict = dict(zip([0,1,2,3], label.classes_)) # dicionário \n",
        "empresa_df"
      ],
      "execution_count": 51,
      "outputs": [
        {
          "output_type": "execute_result",
          "data": {
            "text/html": [
              "<div>\n",
              "<style scoped>\n",
              "    .dataframe tbody tr th:only-of-type {\n",
              "        vertical-align: middle;\n",
              "    }\n",
              "\n",
              "    .dataframe tbody tr th {\n",
              "        vertical-align: top;\n",
              "    }\n",
              "\n",
              "    .dataframe thead th {\n",
              "        text-align: right;\n",
              "    }\n",
              "</style>\n",
              "<table border=\"1\" class=\"dataframe\">\n",
              "  <thead>\n",
              "    <tr style=\"text-align: right;\">\n",
              "      <th></th>\n",
              "      <th>empresa</th>\n",
              "    </tr>\n",
              "  </thead>\n",
              "  <tbody>\n",
              "    <tr>\n",
              "      <th>0</th>\n",
              "      <td>2</td>\n",
              "    </tr>\n",
              "    <tr>\n",
              "      <th>1</th>\n",
              "      <td>2</td>\n",
              "    </tr>\n",
              "    <tr>\n",
              "      <th>2</th>\n",
              "      <td>2</td>\n",
              "    </tr>\n",
              "    <tr>\n",
              "      <th>3</th>\n",
              "      <td>2</td>\n",
              "    </tr>\n",
              "    <tr>\n",
              "      <th>4</th>\n",
              "      <td>2</td>\n",
              "    </tr>\n",
              "    <tr>\n",
              "      <th>...</th>\n",
              "      <td>...</td>\n",
              "    </tr>\n",
              "    <tr>\n",
              "      <th>19523</th>\n",
              "      <td>0</td>\n",
              "    </tr>\n",
              "    <tr>\n",
              "      <th>19524</th>\n",
              "      <td>0</td>\n",
              "    </tr>\n",
              "    <tr>\n",
              "      <th>19525</th>\n",
              "      <td>0</td>\n",
              "    </tr>\n",
              "    <tr>\n",
              "      <th>19526</th>\n",
              "      <td>0</td>\n",
              "    </tr>\n",
              "    <tr>\n",
              "      <th>19527</th>\n",
              "      <td>0</td>\n",
              "    </tr>\n",
              "  </tbody>\n",
              "</table>\n",
              "<p>19528 rows × 1 columns</p>\n",
              "</div>"
            ],
            "text/plain": [
              "       empresa\n",
              "0            2\n",
              "1            2\n",
              "2            2\n",
              "3            2\n",
              "4            2\n",
              "...        ...\n",
              "19523        0\n",
              "19524        0\n",
              "19525        0\n",
              "19526        0\n",
              "19527        0\n",
              "\n",
              "[19528 rows x 1 columns]"
            ]
          },
          "metadata": {
            "tags": []
          },
          "execution_count": 51
        }
      ]
    },
    {
      "cell_type": "code",
      "metadata": {
        "colab": {
          "base_uri": "https://localhost:8080/",
          "height": 419
        },
        "id": "s-dC83qbaVem",
        "outputId": "e4b94d67-ca17-4f85-cf1a-981a1e550c1c"
      },
      "source": [
        "# Trocando o sentido da viagem (ida e volta) por um inteiro\n",
        "label = preprocessing.LabelEncoder()\n",
        "\n",
        "sentido = {'sentido': label.fit_transform(df['sentido_viagem'])}\n",
        "sentido_df = pd.DataFrame(data=sentido) # 0 = ida, 1 = volta\n",
        "\n",
        "sentido_dict = dict(zip([0,1], label.classes_)) # dicionário \n",
        "sentido_df"
      ],
      "execution_count": 52,
      "outputs": [
        {
          "output_type": "execute_result",
          "data": {
            "text/html": [
              "<div>\n",
              "<style scoped>\n",
              "    .dataframe tbody tr th:only-of-type {\n",
              "        vertical-align: middle;\n",
              "    }\n",
              "\n",
              "    .dataframe tbody tr th {\n",
              "        vertical-align: top;\n",
              "    }\n",
              "\n",
              "    .dataframe thead th {\n",
              "        text-align: right;\n",
              "    }\n",
              "</style>\n",
              "<table border=\"1\" class=\"dataframe\">\n",
              "  <thead>\n",
              "    <tr style=\"text-align: right;\">\n",
              "      <th></th>\n",
              "      <th>sentido</th>\n",
              "    </tr>\n",
              "  </thead>\n",
              "  <tbody>\n",
              "    <tr>\n",
              "      <th>0</th>\n",
              "      <td>0</td>\n",
              "    </tr>\n",
              "    <tr>\n",
              "      <th>1</th>\n",
              "      <td>1</td>\n",
              "    </tr>\n",
              "    <tr>\n",
              "      <th>2</th>\n",
              "      <td>0</td>\n",
              "    </tr>\n",
              "    <tr>\n",
              "      <th>3</th>\n",
              "      <td>1</td>\n",
              "    </tr>\n",
              "    <tr>\n",
              "      <th>4</th>\n",
              "      <td>0</td>\n",
              "    </tr>\n",
              "    <tr>\n",
              "      <th>...</th>\n",
              "      <td>...</td>\n",
              "    </tr>\n",
              "    <tr>\n",
              "      <th>19523</th>\n",
              "      <td>1</td>\n",
              "    </tr>\n",
              "    <tr>\n",
              "      <th>19524</th>\n",
              "      <td>0</td>\n",
              "    </tr>\n",
              "    <tr>\n",
              "      <th>19525</th>\n",
              "      <td>1</td>\n",
              "    </tr>\n",
              "    <tr>\n",
              "      <th>19526</th>\n",
              "      <td>0</td>\n",
              "    </tr>\n",
              "    <tr>\n",
              "      <th>19527</th>\n",
              "      <td>1</td>\n",
              "    </tr>\n",
              "  </tbody>\n",
              "</table>\n",
              "<p>19528 rows × 1 columns</p>\n",
              "</div>"
            ],
            "text/plain": [
              "       sentido\n",
              "0            0\n",
              "1            1\n",
              "2            0\n",
              "3            1\n",
              "4            0\n",
              "...        ...\n",
              "19523        1\n",
              "19524        0\n",
              "19525        1\n",
              "19526        0\n",
              "19527        1\n",
              "\n",
              "[19528 rows x 1 columns]"
            ]
          },
          "metadata": {
            "tags": []
          },
          "execution_count": 52
        }
      ]
    },
    {
      "cell_type": "code",
      "metadata": {
        "colab": {
          "base_uri": "https://localhost:8080/"
        },
        "id": "BnNRtP_37tLq",
        "outputId": "79a13624-1f4d-4110-87bc-ab41323bfe56"
      },
      "source": [
        "# Criando uma variável para cada valor único de 'sentido_viagem'\n",
        "numero_linha = df['numero_linha']\n",
        "numero_linha.head()"
      ],
      "execution_count": 53,
      "outputs": [
        {
          "output_type": "execute_result",
          "data": {
            "text/plain": [
              "0    46\n",
              "1    46\n",
              "2    46\n",
              "3    46\n",
              "4    46\n",
              "Name: numero_linha, dtype: int64"
            ]
          },
          "metadata": {
            "tags": []
          },
          "execution_count": 53
        }
      ]
    },
    {
      "cell_type": "code",
      "metadata": {
        "colab": {
          "base_uri": "https://localhost:8080/",
          "height": 419
        },
        "id": "XRHc7Et-AIk5",
        "outputId": "f91fa138-b8bf-4c93-9892-7d8b2126c8f0"
      },
      "source": [
        "# Features/Variáveis selecionadas para o dataset\n",
        "# adiantamento, atraso, empresa e sentido_viagem\n",
        "data = pd.concat([adiantamento, atraso, empresa_df, numero_linha, sentido_df], axis=1)\n",
        "data"
      ],
      "execution_count": 54,
      "outputs": [
        {
          "output_type": "execute_result",
          "data": {
            "text/html": [
              "<div>\n",
              "<style scoped>\n",
              "    .dataframe tbody tr th:only-of-type {\n",
              "        vertical-align: middle;\n",
              "    }\n",
              "\n",
              "    .dataframe tbody tr th {\n",
              "        vertical-align: top;\n",
              "    }\n",
              "\n",
              "    .dataframe thead th {\n",
              "        text-align: right;\n",
              "    }\n",
              "</style>\n",
              "<table border=\"1\" class=\"dataframe\">\n",
              "  <thead>\n",
              "    <tr style=\"text-align: right;\">\n",
              "      <th></th>\n",
              "      <th>adiantamento</th>\n",
              "      <th>atraso</th>\n",
              "      <th>empresa</th>\n",
              "      <th>numero_linha</th>\n",
              "      <th>sentido</th>\n",
              "    </tr>\n",
              "  </thead>\n",
              "  <tbody>\n",
              "    <tr>\n",
              "      <th>0</th>\n",
              "      <td>1</td>\n",
              "      <td>0</td>\n",
              "      <td>2</td>\n",
              "      <td>46</td>\n",
              "      <td>0</td>\n",
              "    </tr>\n",
              "    <tr>\n",
              "      <th>1</th>\n",
              "      <td>1</td>\n",
              "      <td>0</td>\n",
              "      <td>2</td>\n",
              "      <td>46</td>\n",
              "      <td>1</td>\n",
              "    </tr>\n",
              "    <tr>\n",
              "      <th>2</th>\n",
              "      <td>1</td>\n",
              "      <td>0</td>\n",
              "      <td>2</td>\n",
              "      <td>46</td>\n",
              "      <td>0</td>\n",
              "    </tr>\n",
              "    <tr>\n",
              "      <th>3</th>\n",
              "      <td>1</td>\n",
              "      <td>0</td>\n",
              "      <td>2</td>\n",
              "      <td>46</td>\n",
              "      <td>1</td>\n",
              "    </tr>\n",
              "    <tr>\n",
              "      <th>4</th>\n",
              "      <td>0</td>\n",
              "      <td>1</td>\n",
              "      <td>2</td>\n",
              "      <td>46</td>\n",
              "      <td>0</td>\n",
              "    </tr>\n",
              "    <tr>\n",
              "      <th>...</th>\n",
              "      <td>...</td>\n",
              "      <td>...</td>\n",
              "      <td>...</td>\n",
              "      <td>...</td>\n",
              "      <td>...</td>\n",
              "    </tr>\n",
              "    <tr>\n",
              "      <th>19523</th>\n",
              "      <td>0</td>\n",
              "      <td>1</td>\n",
              "      <td>0</td>\n",
              "      <td>107</td>\n",
              "      <td>1</td>\n",
              "    </tr>\n",
              "    <tr>\n",
              "      <th>19524</th>\n",
              "      <td>0</td>\n",
              "      <td>1</td>\n",
              "      <td>0</td>\n",
              "      <td>107</td>\n",
              "      <td>0</td>\n",
              "    </tr>\n",
              "    <tr>\n",
              "      <th>19525</th>\n",
              "      <td>1</td>\n",
              "      <td>0</td>\n",
              "      <td>0</td>\n",
              "      <td>107</td>\n",
              "      <td>1</td>\n",
              "    </tr>\n",
              "    <tr>\n",
              "      <th>19526</th>\n",
              "      <td>1</td>\n",
              "      <td>0</td>\n",
              "      <td>0</td>\n",
              "      <td>107</td>\n",
              "      <td>0</td>\n",
              "    </tr>\n",
              "    <tr>\n",
              "      <th>19527</th>\n",
              "      <td>1</td>\n",
              "      <td>0</td>\n",
              "      <td>0</td>\n",
              "      <td>107</td>\n",
              "      <td>1</td>\n",
              "    </tr>\n",
              "  </tbody>\n",
              "</table>\n",
              "<p>19528 rows × 5 columns</p>\n",
              "</div>"
            ],
            "text/plain": [
              "       adiantamento  atraso  empresa  numero_linha  sentido\n",
              "0                 1       0        2            46        0\n",
              "1                 1       0        2            46        1\n",
              "2                 1       0        2            46        0\n",
              "3                 1       0        2            46        1\n",
              "4                 0       1        2            46        0\n",
              "...             ...     ...      ...           ...      ...\n",
              "19523             0       1        0           107        1\n",
              "19524             0       1        0           107        0\n",
              "19525             1       0        0           107        1\n",
              "19526             1       0        0           107        0\n",
              "19527             1       0        0           107        1\n",
              "\n",
              "[19528 rows x 5 columns]"
            ]
          },
          "metadata": {
            "tags": []
          },
          "execution_count": 54
        }
      ]
    },
    {
      "cell_type": "markdown",
      "metadata": {
        "id": "KUKmCztwp_Uw"
      },
      "source": [
        "Contagem do atraso e do adiantamento em relação as variáveis para visualização dos dados"
      ]
    },
    {
      "cell_type": "code",
      "metadata": {
        "colab": {
          "base_uri": "https://localhost:8080/",
          "height": 173
        },
        "id": "FXbii-zJ2ueP",
        "outputId": "9b41f96b-a8ff-4fc3-80d6-57cf7982a63a"
      },
      "source": [
        "# Geral\n",
        "soma_at = data['atraso'].sum()\n",
        "soma_ad = data['adiantamento'].sum()\n",
        "\n",
        "# Empresa\n",
        "e_at = data[['empresa', 'atraso']].groupby(['empresa'], as_index=False).sum().sort_values(by='empresa')\n",
        "e_ad = data[['empresa', 'adiantamento']].groupby(['empresa'], as_index=False).sum().sort_values(by='empresa')\n",
        "\n",
        "# Sentido\n",
        "sen_at = data[['sentido', 'atraso']].groupby(['sentido'], as_index=False).sum().sort_values(by='sentido')\n",
        "sen_ad = data[['sentido', 'adiantamento']].groupby(['sentido'], as_index=False).sum().sort_values(by='sentido')\n",
        "\n",
        "# Número de linha\n",
        "nl_at = data[['numero_linha', 'atraso']].groupby(['numero_linha'], as_index=False).sum().sort_values(by='numero_linha')\n",
        "nl_ad = data[['numero_linha', 'adiantamento']].groupby(['numero_linha'], as_index=False).sum().sort_values(by='numero_linha')\n",
        "\n",
        "nl_at_40 = nl_at.loc[0:40]\n",
        "nl_ad_40 = nl_ad.loc[0:40]\n",
        "\n",
        "nl_at_80 = nl_at.loc[41:80]\n",
        "nl_ad_80 = nl_ad.loc[41:80]\n",
        "\n",
        "e_at"
      ],
      "execution_count": 55,
      "outputs": [
        {
          "output_type": "execute_result",
          "data": {
            "text/html": [
              "<div>\n",
              "<style scoped>\n",
              "    .dataframe tbody tr th:only-of-type {\n",
              "        vertical-align: middle;\n",
              "    }\n",
              "\n",
              "    .dataframe tbody tr th {\n",
              "        vertical-align: top;\n",
              "    }\n",
              "\n",
              "    .dataframe thead th {\n",
              "        text-align: right;\n",
              "    }\n",
              "</style>\n",
              "<table border=\"1\" class=\"dataframe\">\n",
              "  <thead>\n",
              "    <tr style=\"text-align: right;\">\n",
              "      <th></th>\n",
              "      <th>empresa</th>\n",
              "      <th>atraso</th>\n",
              "    </tr>\n",
              "  </thead>\n",
              "  <tbody>\n",
              "    <tr>\n",
              "      <th>0</th>\n",
              "      <td>0</td>\n",
              "      <td>880</td>\n",
              "    </tr>\n",
              "    <tr>\n",
              "      <th>1</th>\n",
              "      <td>1</td>\n",
              "      <td>3503</td>\n",
              "    </tr>\n",
              "    <tr>\n",
              "      <th>2</th>\n",
              "      <td>2</td>\n",
              "      <td>2384</td>\n",
              "    </tr>\n",
              "    <tr>\n",
              "      <th>3</th>\n",
              "      <td>3</td>\n",
              "      <td>3220</td>\n",
              "    </tr>\n",
              "  </tbody>\n",
              "</table>\n",
              "</div>"
            ],
            "text/plain": [
              "   empresa  atraso\n",
              "0        0     880\n",
              "1        1    3503\n",
              "2        2    2384\n",
              "3        3    3220"
            ]
          },
          "metadata": {
            "tags": []
          },
          "execution_count": 55
        }
      ]
    },
    {
      "cell_type": "markdown",
      "metadata": {
        "id": "FDxv1upEftP1"
      },
      "source": [
        "Explorando os dados a partir de gráficos para descrever e resumir as features."
      ]
    },
    {
      "cell_type": "code",
      "metadata": {
        "colab": {
          "base_uri": "https://localhost:8080/",
          "height": 513
        },
        "id": "4haTfBoDinu4",
        "outputId": "5f209ebb-e59a-4b0d-e608-d20943da544c"
      },
      "source": [
        "#VISUALIZAÇÃO GERAL DE ATRASO\n",
        "X = np.arange(1)\n",
        "fig = plt.figure(figsize = (4, 6))\n",
        "indx = np.arange(2)\n",
        "ax = fig.add_axes([0,0,1,1])\n",
        "ax.bar(X + 0.4, soma_ad, color = 'pink', width = 0.2, label = 'adiantamento')\n",
        "ax.bar(X + 0.6, soma_at, color = 'r', width = 0.2, label = 'atraso')\n",
        "ax.set_xticks(indx)\n",
        "ax.set(title=\"adiantamento e atraso\", ylabel=\"nº de viagens\")\n",
        "ax.legend()"
      ],
      "execution_count": 56,
      "outputs": [
        {
          "output_type": "execute_result",
          "data": {
            "text/plain": [
              "<matplotlib.legend.Legend at 0x7f89e3b18fd0>"
            ]
          },
          "metadata": {
            "tags": []
          },
          "execution_count": 56
        },
        {
          "output_type": "display_data",
          "data": {
            "image/png": "[encoded data removed]",
            "text/plain": [
              "<Figure size 288x432 with 1 Axes>"
            ]
          },
          "metadata": {
            "tags": [],
            "needs_background": "light"
          }
        }
      ]
    },
    {
      "cell_type": "code",
      "metadata": {
        "colab": {
          "base_uri": "https://localhost:8080/",
          "height": 657
        },
        "id": "-E1kWLcW8UCB",
        "outputId": "3c966dcd-ebb6-4e02-de15-8c642ec3e0d3"
      },
      "source": [
        "#VISUALIZAÇÃO ATRASO POR EMPRESA\n",
        "X = np.arange(4)\n",
        "fig = plt.figure(figsize = (10, 8))\n",
        "labels = ['Auto Viação Veleiro LTDA','Empresa São Francisco','Real Transportes Urbanos Ltda.','Viação Cidade de Maceió']\n",
        "indx = np.arange(len(labels))\n",
        "ax = fig.add_axes([0,0,1,1])\n",
        "ax.bar(X + 0.0, e_ad['adiantamento'], color = 'pink', width = 0.2, label = 'adiantamento')\n",
        "ax.bar(X + 0.2, e_at['atraso'], color = 'r', width = 0.2, label = 'atraso')\n",
        "ax.set_xticks(indx)\n",
        "ax.set_xticklabels(labels)\n",
        "ax.legend()\n",
        "ax.set(title=\"Empresas\", ylabel=\"nº de viagens\")"
      ],
      "execution_count": 57,
      "outputs": [
        {
          "output_type": "execute_result",
          "data": {
            "text/plain": [
              "[Text(0, 0.5, 'nº de viagens'), Text(0.5, 1.0, 'Empresas')]"
            ]
          },
          "metadata": {
            "tags": []
          },
          "execution_count": 57
        },
        {
          "output_type": "display_data",
          "data": {
            "image/png": "[encoded data removed]",
            "text/plain": [
              "<Figure size 720x576 with 1 Axes>"
            ]
          },
          "metadata": {
            "tags": [],
            "needs_background": "light"
          }
        }
      ]
    },
    {
      "cell_type": "code",
      "metadata": {
        "colab": {
          "base_uri": "https://localhost:8080/",
          "height": 513
        },
        "id": "xKsfBdRcbZm0",
        "outputId": "1b9f2ed0-1588-4e90-ebb6-30572f3eb360"
      },
      "source": [
        "#VISUALIZAÇÃO GERAL IDA E VOLTA\n",
        "X = np.arange(2)\n",
        "fig = plt.figure(figsize = (6, 6))\n",
        "labels = ['ida', 'volta']\n",
        "indx = np.arange(len(labels))\n",
        "\n",
        "ax = fig.add_axes([0,0,1,1])\n",
        "ax.bar(X + 0.0, sen_ad['adiantamento'], color = 'y', width = 0.2, label = 'adiantamento')\n",
        "ax.bar(X + 0.2, sen_at['atraso'], color = 'g', width = 0.2, label = 'atraso')\n",
        "ax.set_xticks(indx)\n",
        "ax.set_xticklabels(labels)\n",
        "ax.legend()\n",
        "\n",
        "ax.set(title=\"Sentido da viagem\", ylabel=\"nº de viagens\")"
      ],
      "execution_count": 58,
      "outputs": [
        {
          "output_type": "execute_result",
          "data": {
            "text/plain": [
              "[Text(0, 0.5, 'nº de viagens'), Text(0.5, 1.0, 'Sentido da viagem')]"
            ]
          },
          "metadata": {
            "tags": []
          },
          "execution_count": 58
        },
        {
          "output_type": "display_data",
          "data": {
            "image/png": "[encoded data removed]",
            "text/plain": [
              "<Figure size 432x432 with 1 Axes>"
            ]
          },
          "metadata": {
            "tags": [],
            "needs_background": "light"
          }
        }
      ]
    },
    {
      "cell_type": "code",
      "metadata": {
        "id": "2IUj9DzvFFNt"
      },
      "source": [
        "# Agrupando variáveis por empresa\n",
        "empresa0 = data.loc[data['empresa'] == 0]\n",
        "empresa1 = data.loc[data['empresa'] == 1]\n",
        "empresa2 = data.loc[data['empresa'] == 2]\n",
        "empresa3 = data.loc[data['empresa'] == 3]\n",
        "\n",
        "# Empresa 0 \n",
        "e0_at = empresa0[['sentido', 'atraso']].groupby(['sentido'], as_index=False).sum().sort_values(by='sentido')\n",
        "e0_ad = empresa0[['sentido', 'adiantamento']].groupby(['sentido'], as_index=False).sum().sort_values(by='sentido')\n",
        "\n",
        "# Empresa 1\n",
        "e1_at = empresa1[['sentido', 'atraso']].groupby(['sentido'], as_index=False).sum().sort_values(by='sentido')\n",
        "e1_ad = empresa1[['sentido', 'adiantamento']].groupby(['sentido'], as_index=False).sum().sort_values(by='sentido')\n",
        "\n",
        "# Empresa 2\n",
        "e2_at = empresa2[['sentido', 'atraso']].groupby(['sentido'], as_index=False).sum().sort_values(by='sentido')\n",
        "e2_ad = empresa2[['sentido', 'adiantamento']].groupby(['sentido'], as_index=False).sum().sort_values(by='sentido')\n",
        "\n",
        "# Empresa 3\n",
        "e3_at = empresa3[['sentido', 'atraso']].groupby(['sentido'], as_index=False).sum().sort_values(by='sentido')\n",
        "e3_ad = empresa3[['sentido', 'adiantamento']].groupby(['sentido'], as_index=False).sum().sort_values(by='sentido')"
      ],
      "execution_count": 59,
      "outputs": []
    },
    {
      "cell_type": "code",
      "metadata": {
        "colab": {
          "base_uri": "https://localhost:8080/",
          "height": 842
        },
        "id": "-HGr4TyASADU",
        "outputId": "ceffbddb-5271-4972-ff48-29b8e1b306ae"
      },
      "source": [
        "#VISUALIZAÇÃO DO ATRASO EM CADA EMPRESA POR SENTIDO\n",
        "X = np.arange(2)\n",
        "labels = ['ida', 'volta']\n",
        "indx = np.arange(len(labels))\n",
        "\n",
        "fig, (ax, ax1) = plt.subplots(1, 2, figsize=(12,6))\n",
        "\n",
        "ax.bar(X + 0.0, e0_ad['adiantamento'], color='y', width = 0.2, label = 'adiantamento')\n",
        "ax.bar(X + 0.2, e0_at['atraso'], color = 'g', width = 0.2, label = 'atraso')\n",
        "ax.set_xticks(indx)\n",
        "ax.set_xticklabels(labels)\n",
        "ax.legend(loc = 'upper center')\n",
        "\n",
        "ax1.bar(X + 0.0, e1_ad['adiantamento'], color = 'y', width = 0.2, label = 'adiantamento')\n",
        "ax1.bar(X + 0.2, e1_at['atraso'], color = 'g', width = 0.2, label = 'atraso')\n",
        "ax1.set_xticks(indx)\n",
        "ax1.set_xticklabels(labels)\n",
        "ax1.legend(loc = 'upper center')\n",
        "\n",
        "fig, (ax2, ax3) = plt.subplots(1, 2, figsize=(12,6))\n",
        "\n",
        "ax2.bar(X + 0.0, e2_ad['adiantamento'], color = 'y', width = 0.2, label = 'adiantamento')\n",
        "ax2.bar(X + 0.2, e2_at['atraso'], color = 'g', width = 0.2, label = 'atraso')\n",
        "ax2.set_xticks(indx)\n",
        "ax2.set_xticklabels(labels)\n",
        "ax2.legend(loc = 'upper center')\n",
        "\n",
        "ax3.bar(X + 0.0, e3_ad['adiantamento'], color = 'y', width = 0.2, label = 'adiantamento')\n",
        "ax3.bar(X + 0.2, e3_at['atraso'], color = 'g', width = 0.2, label = 'atraso')\n",
        "ax3.set_xticks(indx)\n",
        "ax3.set_xticklabels(labels)\n",
        "ax3.legend(loc = 'upper center')\n",
        "\n",
        "ax.set(title=\"Auto Viação Veleiro LTDA\", xlabel=\"sentido\", ylabel=\"nº de viagens\")\n",
        "ax1.set(title=\"Empresa São Francisco\", xlabel=\"sentido\", ylabel=\"nº de viagens\")\n",
        "ax2.set(title=\"Real Transportes Urbanos Ltda.\", xlabel=\"sentido\", ylabel=\"nº de viagens\")\n",
        "ax3.set(title=\"Viação Cidade de Maceió\", xlabel=\"sentido\", ylabel=\"nº de viagens\")"
      ],
      "execution_count": 60,
      "outputs": [
        {
          "output_type": "execute_result",
          "data": {
            "text/plain": [
              "[Text(0, 0.5, 'nº de viagens'),\n",
              " Text(0.5, 0, 'sentido'),\n",
              " Text(0.5, 1.0, 'Viação Cidade de Maceió')]"
            ]
          },
          "metadata": {
            "tags": []
          },
          "execution_count": 60
        },
        {
          "output_type": "display_data",
          "data": {
            "image/png": "[encoded data removed]",
            "text/plain": [
              "<Figure size 864x432 with 2 Axes>"
            ]
          },
          "metadata": {
            "tags": [],
            "needs_background": "light"
          }
        },
        {
          "output_type": "display_data",
          "data": {
            "image/png": "[encoded data removed]",
            "text/plain": [
              "<Figure size 864x432 with 2 Axes>"
            ]
          },
          "metadata": {
            "tags": [],
            "needs_background": "light"
          }
        }
      ]
    },
    {
      "cell_type": "code",
      "metadata": {
        "colab": {
          "base_uri": "https://localhost:8080/",
          "height": 797
        },
        "id": "Sn1hrr9hsWqu",
        "outputId": "aeb1f76d-a903-45f2-bed2-144614d0a060"
      },
      "source": [
        "#VISUALIZAÇÃO ATRASO POR LINHA\n",
        "fig, ax = plt.subplots(figsize=(24, 6))\n",
        "\n",
        "X = np.arange(len(nl_ad_40))\n",
        "labels = nl_at_40['numero_linha']\n",
        "indx = np.arange(len(labels))\n",
        "ax.bar(X + 0.0, nl_ad_40['adiantamento'], color = '#87CEFA', width = 0.2, label = 'adiantamento')\n",
        "ax.bar(X + 0.2, nl_at_40['atraso'], color = '#1C86EE', width = 0.2, label = 'atraso')\n",
        "ax.set_xticks(indx)\n",
        "ax.set_xticklabels(labels)\n",
        "ax.legend()\n",
        "\n",
        "fig, ax1 = plt.subplots(figsize=(24, 6))\n",
        "\n",
        "X1 = np.arange(len(nl_ad_80))\n",
        "labels1 = nl_at_80['numero_linha']\n",
        "indx = np.arange(len(labels1))\n",
        "ax1.bar(X1 + 0.0, nl_ad_80['adiantamento'], color = '#87CEFA', width = 0.2, label = 'adiantamento')\n",
        "ax1.bar(X1 + 0.2, nl_at_80['atraso'], color = '#1C86EE', width = 0.2, label = 'atraso')\n",
        "ax1.set_xticks(indx)\n",
        "ax1.set_xticklabels(labels1)\n",
        "ax1.legend()\n",
        "\n",
        "ax.set(title=\"Número de linha entre [17-503]\", ylabel=\"nº de viagens\")\n",
        "ax1.set(title=\"Número de linha entre [599-7151]\", ylabel=\"nº de viagens\")"
      ],
      "execution_count": 61,
      "outputs": [
        {
          "output_type": "execute_result",
          "data": {
            "text/plain": [
              "[Text(0, 0.5, 'nº de viagens'),\n",
              " Text(0.5, 1.0, 'Número de linha entre [599-7151]')]"
            ]
          },
          "metadata": {
            "tags": []
          },
          "execution_count": 61
        },
        {
          "output_type": "display_data",
          "data": {
            "image/png": "[encoded data removed]",
            "text/plain": [
              "<Figure size 1728x432 with 1 Axes>"
            ]
          },
          "metadata": {
            "tags": [],
            "needs_background": "light"
          }
        },
        {
          "output_type": "display_data",
          "data": {
            "image/png": "[encoded data removed]",
            "text/plain": [
              "<Figure size 1728x432 with 1 Axes>"
            ]
          },
          "metadata": {
            "tags": [],
            "needs_background": "light"
          }
        }
      ]
    },
    {
      "cell_type": "code",
      "metadata": {
        "colab": {
          "base_uri": "https://localhost:8080/"
        },
        "id": "iUq7iKrrbDRO",
        "outputId": "1ebc2609-e28e-4609-a0d2-cb8feab262fc"
      },
      "source": [
        "# Quantidade de linhas que tem mais atraso do que adiantamento e linhas que tem mais adiantamento do que atraso\n",
        "linhas_at = pd.DataFrame(np.where(nl_at['atraso']>nl_ad['adiantamento'], 1, 0), columns=['atraso'])\n",
        "linhas_ad = pd.DataFrame(np.where(nl_at['atraso']<nl_ad['adiantamento'], 1, 0), columns=['adiantamento'])\n",
        "\n",
        "n_linhas_at = linhas_at['atraso'].sum()\n",
        "n_linhas_ad = linhas_ad['adiantamento'].sum()\n",
        "print(n_linhas_at, n_linhas_ad)"
      ],
      "execution_count": 62,
      "outputs": [
        {
          "output_type": "stream",
          "text": [
            "56 24\n"
          ],
          "name": "stdout"
        }
      ]
    },
    {
      "cell_type": "code",
      "metadata": {
        "colab": {
          "base_uri": "https://localhost:8080/",
          "height": 513
        },
        "id": "htS_Iyorb6mf",
        "outputId": "dafa1015-2c89-4def-be1e-5125d80ac5bd"
      },
      "source": [
        "#VISUALIZAÇÃO GERAL QUANTIDADE DE LINHAS QUE MAIS ATRASARAM OU MAIS ADIANTARAM\n",
        "X = np.arange(1)\n",
        "fig = plt.figure(figsize = (4, 6))\n",
        "indx = np.arange(2)\n",
        "ax = fig.add_axes([0,0,1,1])\n",
        "ax.bar(X + 0.4, n_linhas_ad, color = '#87CEFA', width = 0.2, label = 'adiantamento')\n",
        "ax.bar(X + 0.6, n_linhas_at, color = '#1C86EE', width = 0.2, label = 'atraso')\n",
        "ax.set_xticks(indx)\n",
        "ax.set(title=\"quantidade de linhas que mais atrasaram e as que mais adiantaram\", ylabel=\"nº de linhas\")\n",
        "ax.legend()"
      ],
      "execution_count": 63,
      "outputs": [
        {
          "output_type": "execute_result",
          "data": {
            "text/plain": [
              "<matplotlib.legend.Legend at 0x7f89e36b4b70>"
            ]
          },
          "metadata": {
            "tags": []
          },
          "execution_count": 63
        },
        {
          "output_type": "display_data",
          "data": {
            "image/png": "[encoded data removed]",
            "text/plain": [
              "<Figure size 288x432 with 1 Axes>"
            ]
          },
          "metadata": {
            "tags": [],
            "needs_background": "light"
          }
        }
      ]
    },
    {
      "cell_type": "code",
      "metadata": {
        "id": "nCDRsOwYmlBI",
        "colab": {
          "base_uri": "https://localhost:8080/",
          "height": 277
        },
        "outputId": "12454eaa-0963-4e3f-b062-11849c62d245"
      },
      "source": [
        "# Plot das distribuições do número da linha que atrasou ou não atrasou\n",
        "a = sns.FacetGrid(data, hue = 'atraso', height=3.5, aspect=5.5)\n",
        "a.map(sns.kdeplot, 'numero_linha', shade= True )\n",
        "a.set(xlim=(0 , data['numero_linha'].max()))\n",
        "a.set_axis_labels(\"Número da linha\")\n",
        "a.add_legend()"
      ],
      "execution_count": 64,
      "outputs": [
        {
          "output_type": "execute_result",
          "data": {
            "text/plain": [
              "<seaborn.axisgrid.FacetGrid at 0x7f89ec640630>"
            ]
          },
          "metadata": {
            "tags": []
          },
          "execution_count": 64
        },
        {
          "output_type": "display_data",
          "data": {
            "image/png": "[encoded data removed]",
            "text/plain": [
              "<Figure size 1428.38x252 with 1 Axes>"
            ]
          },
          "metadata": {
            "tags": [],
            "needs_background": "light"
          }
        }
      ]
    }
  ]
}